{
 "cells": [
  {
   "cell_type": "markdown",
   "source": [
    "# Análise Exploratória de sinais de ECG\n"
   ],
   "metadata": {}
  },
  {
   "cell_type": "code",
   "execution_count": 1,
   "source": [
    "import pandas as pd\n",
    "import os\n",
    "\n",
    "PATH = os.path.abspath('../../')"
   ],
   "outputs": [],
   "metadata": {}
  },
  {
   "cell_type": "code",
   "execution_count": 4,
   "source": [
    "df = pd.read_csv(PATH+'/data/Generalized_seizures_dataset.csv')"
   ],
   "outputs": [],
   "metadata": {}
  },
  {
   "cell_type": "code",
   "execution_count": 13,
   "source": [
    "# Quantidade de Sinas por frquência amostral\n",
    "df['freq'].value_counts()"
   ],
   "outputs": [
    {
     "output_type": "execute_result",
     "data": {
      "text/plain": [
       "256     218\n",
       "250     190\n",
       "400      32\n",
       "1000     16\n",
       "512       2\n",
       "Name: freq, dtype: int64"
      ]
     },
     "metadata": {},
     "execution_count": 13
    }
   ],
   "metadata": {}
  },
  {
   "cell_type": "code",
   "execution_count": 18,
   "source": [
    "# Contagem de eventos por Arquivo\n",
    "df['path'].value_counts()"
   ],
   "outputs": [
    {
     "output_type": "execute_result",
     "data": {
      "text/plain": [
       "train/01_tcp_ar/100/00010020/s001_2013_03_23/00010020_s001_t001.tse      43\n",
       "train/01_tcp_ar/100/00010020/s001_2013_03_23/00010020_s001_t000.tse      28\n",
       "train/02_tcp_le/065/00006514/s008_2010_05_03/00006514_s008_t001.tse      16\n",
       "train/01_tcp_ar/120/00012046/s001_2014_10_09/00012046_s001_t000.tse      13\n",
       "train/02_tcp_le/065/00006514/s007_2010_05_03/00006514_s007_t001.tse      12\n",
       "                                                                         ..\n",
       "train/01_tcp_ar/112/00011272/s003_2014_02_19/00011272_s003_t006.tse       1\n",
       "train/01_tcp_ar/118/00011870/s001_2014_08_13/00011870_s001_t002.tse       1\n",
       "train/01_tcp_ar/118/00011870/s003_2014_08_13/00011870_s003_t002.tse       1\n",
       "train/01_tcp_ar/127/00012707/s001_2015_01_29/00012707_s001_t001.tse       1\n",
       "train/03_tcp_ar_a/119/00011999/s007_2014_11_09/00011999_s007_t004.tse     1\n",
       "Name: path, Length: 200, dtype: int64"
      ]
     },
     "metadata": {},
     "execution_count": 18
    }
   ],
   "metadata": {}
  },
  {
   "cell_type": "markdown",
   "source": [
    "OBS: usaremos inicialmente sinais com frequência amostral de 256 Hz"
   ],
   "metadata": {}
  },
  {
   "cell_type": "code",
   "execution_count": 20,
   "source": [
    "df = df[df['freq']==256].reset_index(drop=True)"
   ],
   "outputs": [],
   "metadata": {}
  },
  {
   "cell_type": "markdown",
   "source": [
    "## Carregando e Organizando dados"
   ],
   "metadata": {}
  },
  {
   "cell_type": "code",
   "execution_count": 21,
   "source": [
    "files = df['path'].unique()"
   ],
   "outputs": [
    {
     "output_type": "execute_result",
     "data": {
      "text/plain": [
       "array(['train/01_tcp_ar/044/00004456/s015_2014_06_19/00004456_s015_t002.tse',\n",
       "       'train/01_tcp_ar/044/00004456/s015_2014_06_19/00004456_s015_t004.tse',\n",
       "       'train/01_tcp_ar/044/00004456/s015_2014_06_19/00004456_s015_t007.tse',\n",
       "       'train/01_tcp_ar/044/00004456/s015_2014_06_19/00004456_s015_t009.tse',\n",
       "       'train/01_tcp_ar/079/00007936/s007_2014_08_21/00007936_s007_t000.tse',\n",
       "       'train/01_tcp_ar/079/00007936/s007_2014_08_21/00007936_s007_t001.tse',\n",
       "       'train/01_tcp_ar/079/00007937/s003_2015_04_01/00007937_s003_t000.tse',\n",
       "       'train/01_tcp_ar/083/00008303/s001_2011_11_23/00008303_s001_t000.tse',\n",
       "       'train/01_tcp_ar/084/00008480/s004_2012_11_09/00008480_s004_t000.tse',\n",
       "       'train/01_tcp_ar/091/00009104/s006_2014_09_23/00009104_s006_t001.tse',\n",
       "       'train/01_tcp_ar/091/00009104/s006_2014_09_23/00009104_s006_t002.tse',\n",
       "       'train/01_tcp_ar/091/00009104/s006_2014_09_23/00009104_s006_t003.tse',\n",
       "       'train/01_tcp_ar/091/00009104/s006_2014_09_23/00009104_s006_t004.tse',\n",
       "       'train/01_tcp_ar/091/00009104/s006_2014_09_23/00009104_s006_t007.tse',\n",
       "       'train/01_tcp_ar/091/00009104/s006_2014_09_23/00009104_s006_t021.tse',\n",
       "       'train/01_tcp_ar/091/00009104/s007_2014_09_24/00009104_s007_t015.tse',\n",
       "       'train/01_tcp_ar/091/00009104/s009_2014_09_25/00009104_s009_t003.tse',\n",
       "       'train/01_tcp_ar/091/00009104/s010_2014_09_26/00009104_s010_t015.tse',\n",
       "       'train/01_tcp_ar/092/00009232/s004_2012_10_11/00009232_s004_t010.tse',\n",
       "       'train/01_tcp_ar/096/00009623/s005_2012_10_20/00009623_s005_t003.tse',\n",
       "       'train/01_tcp_ar/096/00009623/s005_2012_10_20/00009623_s005_t005.tse',\n",
       "       'train/01_tcp_ar/096/00009623/s005_2012_10_20/00009623_s005_t008.tse',\n",
       "       'train/01_tcp_ar/098/00009852/s003_2013_09_25/00009852_s003_t006.tse',\n",
       "       'train/01_tcp_ar/099/00009932/s006_2014_10_02/00009932_s006_t003.tse',\n",
       "       'train/01_tcp_ar/099/00009934/s002_2013_03_16/00009934_s002_t006.tse',\n",
       "       'train/01_tcp_ar/100/00010020/s001_2013_03_23/00010020_s001_t000.tse',\n",
       "       'train/01_tcp_ar/100/00010020/s001_2013_03_23/00010020_s001_t001.tse',\n",
       "       'train/01_tcp_ar/101/00010158/s003_2013_01_14/00010158_s003_t000.tse',\n",
       "       'train/01_tcp_ar/101/00010158/s003_2013_01_14/00010158_s003_t001.tse',\n",
       "       'train/01_tcp_ar/101/00010158/s003_2013_01_14/00010158_s003_t002.tse',\n",
       "       'train/01_tcp_ar/107/00010760/s002_2013_09_18/00010760_s002_t002.tse',\n",
       "       'train/01_tcp_ar/108/00010843/s009_2014_10_07/00010843_s009_t001.tse',\n",
       "       'train/01_tcp_ar/108/00010843/s009_2014_10_07/00010843_s009_t002.tse',\n",
       "       'train/01_tcp_ar/108/00010843/s009_2014_10_07/00010843_s009_t003.tse',\n",
       "       'train/01_tcp_ar/112/00011272/s003_2014_02_19/00011272_s003_t006.tse',\n",
       "       'train/01_tcp_ar/118/00011870/s001_2014_08_13/00011870_s001_t002.tse',\n",
       "       'train/01_tcp_ar/118/00011870/s001_2014_08_13/00011870_s001_t003.tse',\n",
       "       'train/01_tcp_ar/118/00011870/s003_2014_08_13/00011870_s003_t001.tse',\n",
       "       'train/01_tcp_ar/118/00011870/s003_2014_08_13/00011870_s003_t002.tse',\n",
       "       'train/01_tcp_ar/118/00011870/s003_2014_08_13/00011870_s003_t003.tse',\n",
       "       'train/01_tcp_ar/119/00011972/s004_2014_09_17/00011972_s004_t000.tse',\n",
       "       'train/01_tcp_ar/119/00011972/s004_2014_09_17/00011972_s004_t001.tse',\n",
       "       'train/01_tcp_ar/119/00011972/s004_2014_09_17/00011972_s004_t003.tse',\n",
       "       'train/01_tcp_ar/119/00011972/s006_2014_09_17/00011972_s006_t001.tse',\n",
       "       'train/01_tcp_ar/127/00012707/s003_2015_01_29/00012707_s003_t007.tse',\n",
       "       'train/01_tcp_ar/127/00012707/s003_2015_01_29/00012707_s003_t009.tse',\n",
       "       'train/01_tcp_ar/129/00012940/s001_2015_04_26/00012940_s001_t003.tse',\n",
       "       'train/01_tcp_ar/129/00012940/s002_2015_04_26/00012940_s002_t002.tse',\n",
       "       'train/01_tcp_ar/129/00012940/s002_2015_04_26/00012940_s002_t005.tse',\n",
       "       'train/01_tcp_ar/129/00012940/s002_2015_04_26/00012940_s002_t006.tse',\n",
       "       'train/01_tcp_ar/129/00012940/s002_2015_04_26/00012940_s002_t008.tse',\n",
       "       'train/01_tcp_ar/129/00012940/s002_2015_04_26/00012940_s002_t009.tse',\n",
       "       'train/01_tcp_ar/129/00012940/s003_2015_04_27/00012940_s003_t000.tse',\n",
       "       'train/01_tcp_ar/129/00012940/s003_2015_04_27/00012940_s003_t001.tse',\n",
       "       'train/01_tcp_ar/129/00012940/s003_2015_04_27/00012940_s003_t002.tse',\n",
       "       'train/01_tcp_ar/129/00012940/s003_2015_04_27/00012940_s003_t004.tse',\n",
       "       'train/01_tcp_ar/129/00012940/s003_2015_04_27/00012940_s003_t005.tse',\n",
       "       'train/01_tcp_ar/129/00012941/s002_2015_04_19/00012941_s002_t000.tse',\n",
       "       'train/01_tcp_ar/129/00012941/s002_2015_04_19/00012941_s002_t001.tse',\n",
       "       'train/01_tcp_ar/129/00012941/s002_2015_04_19/00012941_s002_t006.tse',\n",
       "       'train/01_tcp_ar/129/00012941/s002_2015_04_19/00012941_s002_t007.tse',\n",
       "       'train/03_tcp_ar_a/029/00002991/s004_2010_04_26/00002991_s004_t005.tse',\n",
       "       'train/03_tcp_ar_a/061/00006107/s001_2009_09_22/00006107_s001_t001.tse',\n",
       "       'train/03_tcp_ar_a/061/00006107/s001_2009_09_22/00006107_s001_t002.tse',\n",
       "       'train/03_tcp_ar_a/061/00006107/s001_2009_09_22/00006107_s001_t003.tse',\n",
       "       'train/03_tcp_ar_a/061/00006107/s001_2009_09_22/00006107_s001_t004.tse',\n",
       "       'train/03_tcp_ar_a/061/00006107/s001_2009_09_22/00006107_s001_t005.tse',\n",
       "       'train/03_tcp_ar_a/070/00007032/s007_2011_02_10/00007032_s007_t000.tse',\n",
       "       'train/03_tcp_ar_a/070/00007032/s007_2011_02_10/00007032_s007_t001.tse',\n",
       "       'train/03_tcp_ar_a/070/00007032/s007_2011_02_10/00007032_s007_t004.tse',\n",
       "       'train/03_tcp_ar_a/078/00007828/s002_2014_05_14/00007828_s002_t000.tse',\n",
       "       'train/03_tcp_ar_a/091/00009162/s002_2012_04_09/00009162_s002_t000.tse',\n",
       "       'train/03_tcp_ar_a/104/00010418/s017_2014_05_31/00010418_s017_t004.tse',\n",
       "       'train/03_tcp_ar_a/104/00010418/s017_2014_05_31/00010418_s017_t005.tse',\n",
       "       'train/03_tcp_ar_a/115/00011580/s002_2014_05_04/00011580_s002_t005.tse',\n",
       "       'train/03_tcp_ar_a/115/00011580/s002_2014_05_04/00011580_s002_t006.tse',\n",
       "       'train/03_tcp_ar_a/115/00011580/s002_2014_05_04/00011580_s002_t007.tse',\n",
       "       'train/03_tcp_ar_a/115/00011580/s002_2014_05_04/00011580_s002_t008.tse',\n",
       "       'train/03_tcp_ar_a/115/00011580/s002_2014_05_04/00011580_s002_t009.tse',\n",
       "       'train/03_tcp_ar_a/115/00011580/s002_2014_05_04/00011580_s002_t010.tse',\n",
       "       'train/03_tcp_ar_a/115/00011580/s002_2014_05_04/00011580_s002_t011.tse',\n",
       "       'train/03_tcp_ar_a/115/00011580/s002_2014_05_04/00011580_s002_t012.tse',\n",
       "       'train/03_tcp_ar_a/115/00011580/s002_2014_05_04/00011580_s002_t013.tse',\n",
       "       'train/03_tcp_ar_a/115/00011580/s002_2014_05_04/00011580_s002_t014.tse',\n",
       "       'train/03_tcp_ar_a/115/00011580/s002_2014_05_04/00011580_s002_t015.tse',\n",
       "       'train/03_tcp_ar_a/115/00011580/s002_2014_05_04/00011580_s002_t016.tse',\n",
       "       'train/03_tcp_ar_a/115/00011580/s002_2014_05_04/00011580_s002_t017.tse',\n",
       "       'train/03_tcp_ar_a/115/00011580/s002_2014_05_04/00011580_s002_t018.tse',\n",
       "       'train/03_tcp_ar_a/115/00011580/s002_2014_05_04/00011580_s002_t019.tse',\n",
       "       'train/03_tcp_ar_a/115/00011580/s002_2014_05_04/00011580_s002_t020.tse',\n",
       "       'train/03_tcp_ar_a/115/00011580/s006_2014_05_06/00011580_s006_t004.tse',\n",
       "       'train/03_tcp_ar_a/119/00011999/s007_2014_11_09/00011999_s007_t002.tse',\n",
       "       'train/03_tcp_ar_a/119/00011999/s007_2014_11_09/00011999_s007_t004.tse'],\n",
       "      dtype=object)"
      ]
     },
     "metadata": {},
     "execution_count": 21
    }
   ],
   "metadata": {}
  }
 ],
 "metadata": {
  "orig_nbformat": 4,
  "language_info": {
   "name": "python",
   "version": "3.8.11",
   "mimetype": "text/x-python",
   "codemirror_mode": {
    "name": "ipython",
    "version": 3
   },
   "pygments_lexer": "ipython3",
   "nbconvert_exporter": "python",
   "file_extension": ".py"
  },
  "kernelspec": {
   "name": "python3",
   "display_name": "Python 3.8.11 64-bit ('doutorado_ppgee': conda)"
  },
  "interpreter": {
   "hash": "22460d22050eae337a685bb9497253f2f1a23e7ef62aa4271433ffc98c0893c7"
  }
 },
 "nbformat": 4,
 "nbformat_minor": 2
}