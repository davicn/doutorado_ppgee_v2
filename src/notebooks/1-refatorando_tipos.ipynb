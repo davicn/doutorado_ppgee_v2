{
 "cells": [
  {
   "cell_type": "code",
   "execution_count": 1,
   "source": [
    "import pandas as pd\n",
    "import os"
   ],
   "outputs": [],
   "metadata": {}
  },
  {
   "cell_type": "code",
   "execution_count": 2,
   "source": [
    "PATH = os.path.abspath('../../')"
   ],
   "outputs": [],
   "metadata": {}
  },
  {
   "cell_type": "code",
   "execution_count": 3,
   "source": [
    "xl = pd.ExcelFile(PATH + '/docs/seizures_types_v02.xlsx')\n",
    "df = xl.parse('Sheet1')\n",
    "df"
   ],
   "outputs": [
    {
     "data": {
      "text/plain": "   Class Code  Class No.                                    Event Name  \\\n0         NaN          0                                      No Event   \n1        SPSW          1                          Spike/Sharp and Wave   \n2        GPED          2  Generalized Periodic Epileptiform Discharges   \n3        PLED          3  Periodic Lateralized Epileptiform Discharges   \n4        EYBL          4                                     Eye blink   \n5        ARTF          5                               Artifacts (All)   \n6        BCKG          6                                    Background   \n7        SEIZ          7                                       Seizure   \n8        FNSZ          8                    Focal Non-Specific Seizure   \n9        GNSZ          9              Generalized Non-Specific Seizure   \n10       SPSZ         10                        Simple Partial Seizure   \n11       CPSZ         11                       Complex Partial Seizure   \n12       ABSZ         12                               Absence Seizure   \n13       TNSZ         13                                 Tonic Seizure   \n14       CNSZ         14                                Clonic Seizure   \n15       TCSZ         15                          Tonic Clonic Seizure   \n16       ATSZ         16                                Atonic Seizure   \n17       MYSZ         17                             Myoclonic Seizure   \n18       NESZ         18                         Non-Epileptic Seizure   \n19       INTR         19                          Interesting Patterns   \n20       SLOW         20                                       Slowing   \n21       EYEM         21                         Eye Movement Artifact   \n22       CHEW         22                              Chewing Artifact   \n23       SHIV         23                            Shivering Artifact   \n24       MUSC         24                               Muscle Artifact   \n25       ELPP         25                        Electrode Pop Artifact   \n26       ELST         26                        Electrostatic Artifact   \n27       CALB         27                          Calibration Artifact   \n28       HPHS         28                     Hypnagogic Hypersynchrony   \n29       TRIP         29                                Triphasic Wave   \n\n                         Signs           Locality  \\\n0                          NaN                NaN   \n1               Electrographic                All   \n2               Electrographic        Generalized   \n3               Electrographic  Hemispheric/Focal   \n4    Clinical & Electrographic              Focal   \n5    Clinical & Electrographic                All   \n6               Electrographic                NaN   \n7   Clinical &| Electrographic                All   \n8               Electrographic  Hemispheric/Focal   \n9               Electrographic        Generalized   \n10   Clinical & Electrographic                All   \n11   Clinical & Electrographic                All   \n12   Clinical & Electrographic        Generalized   \n13   Clinical & Electrographic                All   \n14   Clinical & Electrographic                All   \n15   Clinical & Electrographic                All   \n16   Clinical & Electrographic                NaN   \n17   Clinical & Electrographic                NaN   \n18   Clinical & Electrographic                NaN   \n19              Electrographic                All   \n20              Electrographic                All   \n21   Clinical & Electrographic              Focal   \n22   Clinical & Electrographic                All   \n23   Clinical & Electrographic                All   \n24   Clinical & Electrographic                All   \n25   Clinical & Electrographic              Focal   \n26   Clinical & Electrographic                All   \n27   Clinical & Electrographic                All   \n28              Electrographic        Generalized   \n29              Electrographic        Generalized   \n\n                                          Description  \n0                               An unclassified event  \n1   Spike and wave/complexes , sharp and wave/comp...  \n2                        Diffused periodic discharges  \n3                           Focal periodic discharges  \n4   A specific type of sharp, high amplitude eye m...  \n5   Any non-brain activity electrical signal, such...  \n6                     Baseline/non-interesting events  \n7   Common seizure class which can include all typ...  \n8   Focal seizures which cannot be specified with ...  \n9   Generalized seizures which cannot be further c...  \n10  Partial seizures during consciousness; Type sp...  \n11  Partial Seizures during unconsciousness; Type ...  \n12  Absence Discharges observed on EEG; patient lo...  \n13  Stiffening of body during seizure (EEG effects...  \n14           Jerking/shivering of body during seizure  \n15  At first stiffening and then jerking of body (...  \n16                         Sudden loss of muscle tone  \n17                          Myoclonous jerks of limbs  \n18  Any non-epileptic seizure observed. Contains n...  \n19  Any unusual or interesting patterns observed t...  \n20                      A brief decrease in frequency  \n21  A very common frontal/prefrontal artifact seen...  \n22  A specific artifact involving multiple channel...  \n23  A specific, sustained sharp artifact that corr...  \n24  A very common, high frequency, sharp artifact ...  \n25  A short artifact characterized by channels usi...  \n26  Artifact caused by movement or interference on...  \n27  Artifact caused by calibration of the electrod...  \n28       A brief period of high amplitude slow waves.  \n29  Large, three-phase waves frequently caused by ...  ",
      "text/html": "<div>\n<style scoped>\n    .dataframe tbody tr th:only-of-type {\n        vertical-align: middle;\n    }\n\n    .dataframe tbody tr th {\n        vertical-align: top;\n    }\n\n    .dataframe thead th {\n        text-align: right;\n    }\n</style>\n<table border=\"1\" class=\"dataframe\">\n  <thead>\n    <tr style=\"text-align: right;\">\n      <th></th>\n      <th>Class Code</th>\n      <th>Class No.</th>\n      <th>Event Name</th>\n      <th>Signs</th>\n      <th>Locality</th>\n      <th>Description</th>\n    </tr>\n  </thead>\n  <tbody>\n    <tr>\n      <th>0</th>\n      <td>NaN</td>\n      <td>0</td>\n      <td>No Event</td>\n      <td>NaN</td>\n      <td>NaN</td>\n      <td>An unclassified event</td>\n    </tr>\n    <tr>\n      <th>1</th>\n      <td>SPSW</td>\n      <td>1</td>\n      <td>Spike/Sharp and Wave</td>\n      <td>Electrographic</td>\n      <td>All</td>\n      <td>Spike and wave/complexes , sharp and wave/comp...</td>\n    </tr>\n    <tr>\n      <th>2</th>\n      <td>GPED</td>\n      <td>2</td>\n      <td>Generalized Periodic Epileptiform Discharges</td>\n      <td>Electrographic</td>\n      <td>Generalized</td>\n      <td>Diffused periodic discharges</td>\n    </tr>\n    <tr>\n      <th>3</th>\n      <td>PLED</td>\n      <td>3</td>\n      <td>Periodic Lateralized Epileptiform Discharges</td>\n      <td>Electrographic</td>\n      <td>Hemispheric/Focal</td>\n      <td>Focal periodic discharges</td>\n    </tr>\n    <tr>\n      <th>4</th>\n      <td>EYBL</td>\n      <td>4</td>\n      <td>Eye blink</td>\n      <td>Clinical &amp; Electrographic</td>\n      <td>Focal</td>\n      <td>A specific type of sharp, high amplitude eye m...</td>\n    </tr>\n    <tr>\n      <th>5</th>\n      <td>ARTF</td>\n      <td>5</td>\n      <td>Artifacts (All)</td>\n      <td>Clinical &amp; Electrographic</td>\n      <td>All</td>\n      <td>Any non-brain activity electrical signal, such...</td>\n    </tr>\n    <tr>\n      <th>6</th>\n      <td>BCKG</td>\n      <td>6</td>\n      <td>Background</td>\n      <td>Electrographic</td>\n      <td>NaN</td>\n      <td>Baseline/non-interesting events</td>\n    </tr>\n    <tr>\n      <th>7</th>\n      <td>SEIZ</td>\n      <td>7</td>\n      <td>Seizure</td>\n      <td>Clinical &amp;| Electrographic</td>\n      <td>All</td>\n      <td>Common seizure class which can include all typ...</td>\n    </tr>\n    <tr>\n      <th>8</th>\n      <td>FNSZ</td>\n      <td>8</td>\n      <td>Focal Non-Specific Seizure</td>\n      <td>Electrographic</td>\n      <td>Hemispheric/Focal</td>\n      <td>Focal seizures which cannot be specified with ...</td>\n    </tr>\n    <tr>\n      <th>9</th>\n      <td>GNSZ</td>\n      <td>9</td>\n      <td>Generalized Non-Specific Seizure</td>\n      <td>Electrographic</td>\n      <td>Generalized</td>\n      <td>Generalized seizures which cannot be further c...</td>\n    </tr>\n    <tr>\n      <th>10</th>\n      <td>SPSZ</td>\n      <td>10</td>\n      <td>Simple Partial Seizure</td>\n      <td>Clinical &amp; Electrographic</td>\n      <td>All</td>\n      <td>Partial seizures during consciousness; Type sp...</td>\n    </tr>\n    <tr>\n      <th>11</th>\n      <td>CPSZ</td>\n      <td>11</td>\n      <td>Complex Partial Seizure</td>\n      <td>Clinical &amp; Electrographic</td>\n      <td>All</td>\n      <td>Partial Seizures during unconsciousness; Type ...</td>\n    </tr>\n    <tr>\n      <th>12</th>\n      <td>ABSZ</td>\n      <td>12</td>\n      <td>Absence Seizure</td>\n      <td>Clinical &amp; Electrographic</td>\n      <td>Generalized</td>\n      <td>Absence Discharges observed on EEG; patient lo...</td>\n    </tr>\n    <tr>\n      <th>13</th>\n      <td>TNSZ</td>\n      <td>13</td>\n      <td>Tonic Seizure</td>\n      <td>Clinical &amp; Electrographic</td>\n      <td>All</td>\n      <td>Stiffening of body during seizure (EEG effects...</td>\n    </tr>\n    <tr>\n      <th>14</th>\n      <td>CNSZ</td>\n      <td>14</td>\n      <td>Clonic Seizure</td>\n      <td>Clinical &amp; Electrographic</td>\n      <td>All</td>\n      <td>Jerking/shivering of body during seizure</td>\n    </tr>\n    <tr>\n      <th>15</th>\n      <td>TCSZ</td>\n      <td>15</td>\n      <td>Tonic Clonic Seizure</td>\n      <td>Clinical &amp; Electrographic</td>\n      <td>All</td>\n      <td>At first stiffening and then jerking of body (...</td>\n    </tr>\n    <tr>\n      <th>16</th>\n      <td>ATSZ</td>\n      <td>16</td>\n      <td>Atonic Seizure</td>\n      <td>Clinical &amp; Electrographic</td>\n      <td>NaN</td>\n      <td>Sudden loss of muscle tone</td>\n    </tr>\n    <tr>\n      <th>17</th>\n      <td>MYSZ</td>\n      <td>17</td>\n      <td>Myoclonic Seizure</td>\n      <td>Clinical &amp; Electrographic</td>\n      <td>NaN</td>\n      <td>Myoclonous jerks of limbs</td>\n    </tr>\n    <tr>\n      <th>18</th>\n      <td>NESZ</td>\n      <td>18</td>\n      <td>Non-Epileptic Seizure</td>\n      <td>Clinical &amp; Electrographic</td>\n      <td>NaN</td>\n      <td>Any non-epileptic seizure observed. Contains n...</td>\n    </tr>\n    <tr>\n      <th>19</th>\n      <td>INTR</td>\n      <td>19</td>\n      <td>Interesting Patterns</td>\n      <td>Electrographic</td>\n      <td>All</td>\n      <td>Any unusual or interesting patterns observed t...</td>\n    </tr>\n    <tr>\n      <th>20</th>\n      <td>SLOW</td>\n      <td>20</td>\n      <td>Slowing</td>\n      <td>Electrographic</td>\n      <td>All</td>\n      <td>A brief decrease in frequency</td>\n    </tr>\n    <tr>\n      <th>21</th>\n      <td>EYEM</td>\n      <td>21</td>\n      <td>Eye Movement Artifact</td>\n      <td>Clinical &amp; Electrographic</td>\n      <td>Focal</td>\n      <td>A very common frontal/prefrontal artifact seen...</td>\n    </tr>\n    <tr>\n      <th>22</th>\n      <td>CHEW</td>\n      <td>22</td>\n      <td>Chewing Artifact</td>\n      <td>Clinical &amp; Electrographic</td>\n      <td>All</td>\n      <td>A specific artifact involving multiple channel...</td>\n    </tr>\n    <tr>\n      <th>23</th>\n      <td>SHIV</td>\n      <td>23</td>\n      <td>Shivering Artifact</td>\n      <td>Clinical &amp; Electrographic</td>\n      <td>All</td>\n      <td>A specific, sustained sharp artifact that corr...</td>\n    </tr>\n    <tr>\n      <th>24</th>\n      <td>MUSC</td>\n      <td>24</td>\n      <td>Muscle Artifact</td>\n      <td>Clinical &amp; Electrographic</td>\n      <td>All</td>\n      <td>A very common, high frequency, sharp artifact ...</td>\n    </tr>\n    <tr>\n      <th>25</th>\n      <td>ELPP</td>\n      <td>25</td>\n      <td>Electrode Pop Artifact</td>\n      <td>Clinical &amp; Electrographic</td>\n      <td>Focal</td>\n      <td>A short artifact characterized by channels usi...</td>\n    </tr>\n    <tr>\n      <th>26</th>\n      <td>ELST</td>\n      <td>26</td>\n      <td>Electrostatic Artifact</td>\n      <td>Clinical &amp; Electrographic</td>\n      <td>All</td>\n      <td>Artifact caused by movement or interference on...</td>\n    </tr>\n    <tr>\n      <th>27</th>\n      <td>CALB</td>\n      <td>27</td>\n      <td>Calibration Artifact</td>\n      <td>Clinical &amp; Electrographic</td>\n      <td>All</td>\n      <td>Artifact caused by calibration of the electrod...</td>\n    </tr>\n    <tr>\n      <th>28</th>\n      <td>HPHS</td>\n      <td>28</td>\n      <td>Hypnagogic Hypersynchrony</td>\n      <td>Electrographic</td>\n      <td>Generalized</td>\n      <td>A brief period of high amplitude slow waves.</td>\n    </tr>\n    <tr>\n      <th>29</th>\n      <td>TRIP</td>\n      <td>29</td>\n      <td>Triphasic Wave</td>\n      <td>Electrographic</td>\n      <td>Generalized</td>\n      <td>Large, three-phase waves frequently caused by ...</td>\n    </tr>\n  </tbody>\n</table>\n</div>"
     },
     "execution_count": 3,
     "metadata": {},
     "output_type": "execute_result"
    }
   ],
   "metadata": {}
  },
  {
   "cell_type": "code",
   "execution_count": 20,
   "source": [
    "df.to_json('seizures_types.json',orient='records')"
   ],
   "outputs": [],
   "metadata": {}
  },
  {
   "cell_type": "code",
   "execution_count": null,
   "source": [],
   "outputs": [],
   "metadata": {}
  }
 ],
 "metadata": {
  "orig_nbformat": 4,
  "language_info": {
   "name": "python",
   "version": "3.8.5",
   "mimetype": "text/x-python",
   "codemirror_mode": {
    "name": "ipython",
    "version": 3
   },
   "pygments_lexer": "ipython3",
   "nbconvert_exporter": "python",
   "file_extension": ".py"
  },
  "kernelspec": {
   "name": "python3",
   "display_name": "Python 3.8.5 64-bit ('base': conda)"
  },
  "interpreter": {
   "hash": "40ce123abf92834746bf96559ffec04a3ea8a5c2f56c8217256f2b5a9dbe6d2f"
  }
 },
 "nbformat": 4,
 "nbformat_minor": 2
}