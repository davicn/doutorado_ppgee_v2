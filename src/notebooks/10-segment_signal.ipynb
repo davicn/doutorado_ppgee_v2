{
 "cells": [
  {
   "cell_type": "markdown",
   "metadata": {},
   "source": [
    "# Segmentação de sinais"
   ]
  },
  {
   "cell_type": "markdown",
   "metadata": {},
   "source": [
    "A segmentação é feita de forma temporal, de acordo com classificação de período da crise.\n",
    "\n",
    "\n",
    "São atribuidos os seguintes rótulos\n",
    "\n",
    "- não-ictal (NI): sem crise;\n",
    "- ictal (I): durante a crise;"
   ]
  },
  {
   "cell_type": "code",
   "execution_count": 73,
   "metadata": {},
   "outputs": [],
   "source": [
    "import pandas as pd"
   ]
  },
  {
   "cell_type": "code",
   "execution_count": 74,
   "metadata": {},
   "outputs": [],
   "source": [
    "infos_path = '/home/davi/Documentos/doutorado_ppgee_v2/data/siena_infos.json'\n",
    "path_data = '/media/davi/6A81-05CF/physionet.org/files/siena-scalp-eeg/1.0.0/PN00/'\n",
    "\n",
    "infos = pd.read_json(infos_path)"
   ]
  },
  {
   "cell_type": "code",
   "execution_count": 7,
   "metadata": {},
   "outputs": [],
   "source": [
    "from pyspark.sql import SparkSession\n",
    "\n",
    "spark = SparkSession.builder.appName('Doutorado').getOrCreate()"
   ]
  },
  {
   "cell_type": "code",
   "execution_count": 76,
   "metadata": {},
   "outputs": [],
   "source": [
    "# Inserindo labels\n",
    "\n",
    "from pyspark.sql.functions import expr\n",
    "from pyspark.sql import DataFrame\n",
    "\n",
    "def set_labels(df:DataFrame, start:int, stop:int)->DataFrame:\n",
    "    expression = (f\"case when time between {start} and {stop} then 'I'\"\n",
    "                  f\"else 'NI' end\")\n",
    "    return df.withColumn('label', expr(expression))"
   ]
  },
  {
   "cell_type": "code",
   "execution_count": 77,
   "metadata": {},
   "outputs": [],
   "source": [
    "def pipeline(info:dict):\n",
    "    freq = int(info['sfreq'])\n",
    "    start = int(info['seizure_start_sec'] * freq)\n",
    "    stop = int(info['seizure_end_sec'] * freq)\n",
    "    name = info['name'].replace('edf','parquet')\n",
    "    \n",
    "    df = spark.read.parquet(f\"{path_data}{name}\")\n",
    "    df = set_labels(df=df, start=start, stop=stop)\n",
    "    df.write.mode(\"overwrite\").parquet(f\"{path_data}{name.replace('.parquet','')}\")\n",
    "    "
   ]
  },
  {
   "cell_type": "code",
   "execution_count": 80,
   "metadata": {},
   "outputs": [
    {
     "name": "stderr",
     "output_type": "stream",
     "text": [
      "                                                                                \r"
     ]
    }
   ],
   "source": [
    "for index, row in infos.iterrows():\n",
    "    pipeline(dict(row))"
   ]
  }
 ],
 "metadata": {
  "interpreter": {
   "hash": "916dbcbb3f70747c44a77c7bcd40155683ae19c65e1c03b4aa3499c5328201f1"
  },
  "kernelspec": {
   "display_name": "Python 3.8.10 64-bit",
   "language": "python",
   "name": "python3"
  },
  "language_info": {
   "codemirror_mode": {
    "name": "ipython",
    "version": 3
   },
   "file_extension": ".py",
   "mimetype": "text/x-python",
   "name": "python",
   "nbconvert_exporter": "python",
   "pygments_lexer": "ipython3",
   "version": "3.9.5"
  },
  "orig_nbformat": 4
 },
 "nbformat": 4,
 "nbformat_minor": 2
}
