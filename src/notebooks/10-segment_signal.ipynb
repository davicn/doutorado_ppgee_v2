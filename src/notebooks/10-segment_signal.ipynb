{
 "cells": [
  {
   "cell_type": "code",
   "execution_count": null,
   "metadata": {},
   "outputs": [],
   "source": []
  },
  {
   "cell_type": "markdown",
   "metadata": {},
   "source": [
    "# Segmentação de sinais"
   ]
  },
  {
   "cell_type": "code",
   "execution_count": 6,
   "metadata": {},
   "outputs": [],
   "source": [
    "import pandas as pd\n",
    "import numpy as np\n",
    "import mne"
   ]
  },
  {
   "cell_type": "code",
   "execution_count": 10,
   "metadata": {},
   "outputs": [
    {
     "data": {
      "text/html": [
       "<div>\n",
       "<style scoped>\n",
       "    .dataframe tbody tr th:only-of-type {\n",
       "        vertical-align: middle;\n",
       "    }\n",
       "\n",
       "    .dataframe tbody tr th {\n",
       "        vertical-align: top;\n",
       "    }\n",
       "\n",
       "    .dataframe thead th {\n",
       "        text-align: right;\n",
       "    }\n",
       "</style>\n",
       "<table border=\"1\" class=\"dataframe\">\n",
       "  <thead>\n",
       "    <tr style=\"text-align: right;\">\n",
       "      <th></th>\n",
       "      <th>name</th>\n",
       "      <th>registration_start</th>\n",
       "      <th>registration_end</th>\n",
       "      <th>seizure_start</th>\n",
       "      <th>seizure_end</th>\n",
       "      <th>total</th>\n",
       "      <th>seizure_start_sec</th>\n",
       "      <th>seizure_end_sec</th>\n",
       "      <th>total_seizure</th>\n",
       "    </tr>\n",
       "  </thead>\n",
       "  <tbody>\n",
       "    <tr>\n",
       "      <th>0</th>\n",
       "      <td>PN00-1.edf</td>\n",
       "      <td>19.39.33</td>\n",
       "      <td>20.22.58</td>\n",
       "      <td>19.58.36</td>\n",
       "      <td>19.59.46</td>\n",
       "      <td>2605</td>\n",
       "      <td>1392</td>\n",
       "      <td>1462</td>\n",
       "      <td>70</td>\n",
       "    </tr>\n",
       "    <tr>\n",
       "      <th>1</th>\n",
       "      <td>PN00-2.edf</td>\n",
       "      <td>02.18.17</td>\n",
       "      <td>02.56.19</td>\n",
       "      <td>02.38.37</td>\n",
       "      <td>02.39.31</td>\n",
       "      <td>2282</td>\n",
       "      <td>1008</td>\n",
       "      <td>1062</td>\n",
       "      <td>54</td>\n",
       "    </tr>\n",
       "    <tr>\n",
       "      <th>2</th>\n",
       "      <td>PN00-3.edf</td>\n",
       "      <td>18.15.44</td>\n",
       "      <td>18.57.13</td>\n",
       "      <td>18.28.29</td>\n",
       "      <td>18.29.29</td>\n",
       "      <td>2489</td>\n",
       "      <td>1664</td>\n",
       "      <td>1724</td>\n",
       "      <td>60</td>\n",
       "    </tr>\n",
       "    <tr>\n",
       "      <th>3</th>\n",
       "      <td>PN00-4.edf</td>\n",
       "      <td>20.51.43</td>\n",
       "      <td>21.26.25</td>\n",
       "      <td>21.08.29</td>\n",
       "      <td>21.09.43</td>\n",
       "      <td>2082</td>\n",
       "      <td>1002</td>\n",
       "      <td>1076</td>\n",
       "      <td>74</td>\n",
       "    </tr>\n",
       "    <tr>\n",
       "      <th>4</th>\n",
       "      <td>PN00-5.edf</td>\n",
       "      <td>22.22.04</td>\n",
       "      <td>22.57.27</td>\n",
       "      <td>22.37.08</td>\n",
       "      <td>22.38.15</td>\n",
       "      <td>2123</td>\n",
       "      <td>1152</td>\n",
       "      <td>1219</td>\n",
       "      <td>67</td>\n",
       "    </tr>\n",
       "  </tbody>\n",
       "</table>\n",
       "</div>"
      ],
      "text/plain": [
       "         name registration_start registration_end seizure_start seizure_end  \\\n",
       "0  PN00-1.edf           19.39.33         20.22.58      19.58.36    19.59.46   \n",
       "1  PN00-2.edf           02.18.17         02.56.19      02.38.37    02.39.31   \n",
       "2  PN00-3.edf           18.15.44         18.57.13      18.28.29    18.29.29   \n",
       "3  PN00-4.edf           20.51.43         21.26.25      21.08.29    21.09.43   \n",
       "4  PN00-5.edf           22.22.04         22.57.27      22.37.08    22.38.15   \n",
       "\n",
       "   total  seizure_start_sec  seizure_end_sec  total_seizure  \n",
       "0   2605               1392             1462             70  \n",
       "1   2282               1008             1062             54  \n",
       "2   2489               1664             1724             60  \n",
       "3   2082               1002             1076             74  \n",
       "4   2123               1152             1219             67  "
      ]
     },
     "execution_count": 10,
     "metadata": {},
     "output_type": "execute_result"
    }
   ],
   "source": [
    "infos_path = '/mnt/c/Users/davi.nascimento/Documents/github/doutorado_ppgee_v2/data/siena_infos.json'\n",
    "\n",
    "infos = pd.read_json(infos_path)\n",
    "\n",
    "infos"
   ]
  },
  {
   "cell_type": "code",
   "execution_count": null,
   "metadata": {},
   "outputs": [],
   "source": []
  },
  {
   "cell_type": "markdown",
   "metadata": {},
   "source": [
    "import numpy "
   ]
  }
 ],
 "metadata": {
  "interpreter": {
   "hash": "916dbcbb3f70747c44a77c7bcd40155683ae19c65e1c03b4aa3499c5328201f1"
  },
  "kernelspec": {
   "display_name": "Python 3.8.10 64-bit",
   "language": "python",
   "name": "python3"
  },
  "language_info": {
   "codemirror_mode": {
    "name": "ipython",
    "version": 3
   },
   "file_extension": ".py",
   "mimetype": "text/x-python",
   "name": "python",
   "nbconvert_exporter": "python",
   "pygments_lexer": "ipython3",
   "version": "3.8.10"
  },
  "orig_nbformat": 4
 },
 "nbformat": 4,
 "nbformat_minor": 2
}
