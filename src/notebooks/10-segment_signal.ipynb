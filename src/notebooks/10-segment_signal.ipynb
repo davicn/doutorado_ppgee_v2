{
 "cells": [
  {
   "cell_type": "markdown",
   "metadata": {},
   "source": [
    "# Segmentação de sinais"
   ]
  },
  {
   "cell_type": "code",
   "execution_count": 1,
   "metadata": {},
   "outputs": [],
   "source": [
    "import pandas as pd\n",
    "import numpy as np\n",
    "import mne"
   ]
  },
  {
   "cell_type": "code",
   "execution_count": 8,
   "metadata": {},
   "outputs": [],
   "source": [
    "infos_path = '/home/davi/Documentos/doutorado_ppgee_v2/data/siena_infos.json'\n",
    "path_data = '/media/davi/6A81-05CF/physionet.org/files/siena-scalp-eeg/1.0.0/PN00/'\n",
    "\n",
    "infos = pd.read_json(infos_path)"
   ]
  },
  {
   "cell_type": "code",
   "execution_count": 9,
   "metadata": {},
   "outputs": [
    {
     "data": {
      "text/plain": [
       "name                                                         PN00-1.edf\n",
       "registration_start                                             19.39.33\n",
       "registration_end                                               20.22.58\n",
       "seizure_start                                                  19.58.36\n",
       "seizure_end                                                    19.59.46\n",
       "total                                                              2605\n",
       "seizure_start_sec                                                  1392\n",
       "seizure_end_sec                                                    1462\n",
       "total_seizure                                                        70\n",
       "highpass                                                       1.591549\n",
       "lowpass                                                              30\n",
       "meas_date                                                    2016-01-01\n",
       "sfreq                                                               512\n",
       "ch_names              [EEG Fp1, EEG F3, EEG C3, EEG P3, EEG O1, EEG ...\n",
       "nchan                                                                35\n",
       "Name: 0, dtype: object"
      ]
     },
     "execution_count": 9,
     "metadata": {},
     "output_type": "execute_result"
    }
   ],
   "source": [
    "info = infos.iloc[0]\n",
    "info"
   ]
  },
  {
   "cell_type": "code",
   "execution_count": 7,
   "metadata": {},
   "outputs": [],
   "source": [
    "from pyspark.sql import SparkSession\n",
    "\n",
    "spark = SparkSession.builder.appName('Doutorado').getOrCreate()"
   ]
  },
  {
   "cell_type": "code",
   "execution_count": 10,
   "metadata": {},
   "outputs": [],
   "source": [
    "d = spark.read.parquet(f\"{path_data}{info['name'].replace('edf','parquet')}\")"
   ]
  },
  {
   "cell_type": "code",
   "execution_count": null,
   "metadata": {},
   "outputs": [],
   "source": []
  },
  {
   "cell_type": "markdown",
   "metadata": {},
   "source": [
    "import numpy "
   ]
  }
 ],
 "metadata": {
  "interpreter": {
   "hash": "916dbcbb3f70747c44a77c7bcd40155683ae19c65e1c03b4aa3499c5328201f1"
  },
  "kernelspec": {
   "display_name": "Python 3.8.10 64-bit",
   "language": "python",
   "name": "python3"
  },
  "language_info": {
   "codemirror_mode": {
    "name": "ipython",
    "version": 3
   },
   "file_extension": ".py",
   "mimetype": "text/x-python",
   "name": "python",
   "nbconvert_exporter": "python",
   "pygments_lexer": "ipython3",
   "version": "3.9.5"
  },
  "orig_nbformat": 4
 },
 "nbformat": 4,
 "nbformat_minor": 2
}
