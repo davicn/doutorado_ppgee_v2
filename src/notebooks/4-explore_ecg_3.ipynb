{
 "cells": [
  {
   "cell_type": "code",
   "execution_count": 111,
   "source": [
    "import pandas as pd\n",
    "import numpy as np\n",
    "import os\n",
    "from dotenv import load_dotenv\n",
    "import mne\n",
    "import neurokit2 as nk\n",
    "\n",
    "load_dotenv()\n",
    "\n",
    "\n",
    "pwd = os.getenv('TUH_PASSWORD')\n",
    "user = os.getenv('TUH_USER')\n",
    "path_data = os.getenv('PATH_DATASET')\n",
    "\n",
    "\n",
    "PATH = os.path.abspath('../../')\n",
    "PATH"
   ],
   "outputs": [
    {
     "output_type": "execute_result",
     "data": {
      "text/plain": [
       "'/home/davi/Github/doutorado_ppgee_v2'"
      ]
     },
     "metadata": {},
     "execution_count": 111
    }
   ],
   "metadata": {}
  },
  {
   "cell_type": "markdown",
   "source": [
    "## Parâmetros iniciais"
   ],
   "metadata": {}
  },
  {
   "cell_type": "code",
   "execution_count": 112,
   "source": [
    "df1 = pd.read_csv(PATH+'/data/Generalized_seizures_dataset.csv') # Seizure\n",
    "\n",
    "df2 = pd.read_csv(PATH + '/data/data_train.csv') # Normal"
   ],
   "outputs": [],
   "metadata": {}
  },
  {
   "cell_type": "code",
   "execution_count": 113,
   "source": [
    "fs = 256 # freq amostral"
   ],
   "outputs": [],
   "metadata": {}
  },
  {
   "cell_type": "markdown",
   "source": [
    "## Funções básicas"
   ],
   "metadata": {}
  },
  {
   "cell_type": "code",
   "execution_count": 133,
   "source": [
    "# Carregando .edf\n",
    "\n",
    "def load_edf(file):\n",
    "    data = mne.io.read_raw_edf(path_data + '/' + file)\n",
    "    info = data.info\n",
    "    return {\"info\":info,\"raw\":data}\n",
    "\n",
    "# Canal de ECG puro \n",
    "def raw_to_dataframe(signal,channels):\n",
    "    df = signal.to_data_frame()\n",
    "    limit_start = fs*10 # limitando 10 segundos iniciais\n",
    "    limit_end = len(ecg_data1)-(fs*10) # limitando 10 segundos finais\n",
    "    return df[channels].iloc[limit_start:limit_end]*(-1)\n",
    "\n",
    "# Identificar canais de ecg\n",
    "def get_ecg_channels(info):\n",
    "    ch_ecg = [ch for ch in info.ch_names if 'EKG' in ch]\n",
    "    return ch_ecg\n",
    "\n",
    "\n",
    "# Filtrando ECG\n",
    "# Recuperando batimentos cardíacos\n",
    "def ecg_process(signal,fs):\n",
    "    ecg_clean = nk.ecg_clean(signal, sampling_rate=fs, method=\"hamilton2002\")\n",
    "    return nk.ecg_segment(ecg_clean, rpeaks=None, sampling_rate=256, show=False)"
   ],
   "outputs": [],
   "metadata": {}
  },
  {
   "cell_type": "markdown",
   "source": [
    "## Pipeline de processamento"
   ],
   "metadata": {}
  },
  {
   "cell_type": "code",
   "execution_count": 115,
   "source": [
    "ecg1_path = df1[df1.freq==fs].path.iloc[0].replace('tse', 'edf')\n",
    "ecg2_path = df2[df2.freq==fs].path.iloc[0].replace('tse', 'edf')\n",
    "\n",
    "ecg1_infos = load_edf(ecg1_path)\n",
    "ecg2_infos = load_edf(ecg2_path)\n",
    "\n",
    "ecg1_ch = get_ecg_channels(ecg1_infos['info'])\n",
    "ecg2_ch = get_ecg_channels(ecg2_infos['info'])\n",
    "\n",
    "ecg_data1 = raw_to_dataframe(ecg1_infos['raw'],ecg1_ch)\n",
    "ecg_data2 = raw_to_dataframe(ecg2_infos['raw'],ecg2_ch)"
   ],
   "outputs": [
    {
     "output_type": "stream",
     "name": "stdout",
     "text": [
      "Extracting EDF parameters from /media/davi/2526467b-9f07-4ce5-9425-6d2b458567b7/home/davi/www.isip.piconepress.com/projects/tuh_eeg/downloads/tuh_eeg_seizure/v1.5.2/edf/train/01_tcp_ar/044/00004456/s015_2014_06_19/00004456_s015_t002.edf...\n",
      "EDF file detected\n",
      "Setting channel info structure...\n",
      "Creating raw.info structure...\n",
      "Extracting EDF parameters from /media/davi/2526467b-9f07-4ce5-9425-6d2b458567b7/home/davi/www.isip.piconepress.com/projects/tuh_eeg/downloads/tuh_eeg_seizure/v1.5.2/edf/train/01_tcp_ar/004/00000458/s011_2014_06_24/00000458_s011_t000.edf...\n",
      "EDF file detected\n",
      "Setting channel info structure...\n",
      "Creating raw.info structure...\n"
     ]
    }
   ],
   "metadata": {}
  },
  {
   "cell_type": "code",
   "execution_count": 116,
   "source": [
    "# Intervalo de de crise\n",
    "star_seizure = int(df1[df1.freq==fs].iloc[0]['inicio'])*fs\n",
    "stop_seizure = int(df1[df1.freq==fs].iloc[0]['fim'])*fs\n",
    "\n",
    "normal_interval = stop_seizure - star_seizure\n"
   ],
   "outputs": [],
   "metadata": {}
  },
  {
   "cell_type": "code",
   "execution_count": 117,
   "source": [
    "seizure_segment = ecg_data1.reset_index(drop=True).iloc[star_seizure:stop_seizure]\n",
    "normal_segment = ecg_data2.reset_index(drop=True).iloc[:normal_interval]"
   ],
   "outputs": [],
   "metadata": {}
  },
  {
   "cell_type": "code",
   "execution_count": 121,
   "source": [
    "result1 = ecg_process(seizure_segment,fs)\n",
    "result2 = ecg_process(normal_segment,fs)"
   ],
   "outputs": [],
   "metadata": {}
  },
  {
   "cell_type": "code",
   "execution_count": null,
   "source": [],
   "outputs": [],
   "metadata": {}
  }
 ],
 "metadata": {
  "orig_nbformat": 4,
  "language_info": {
   "name": "python",
   "version": "3.8.11",
   "mimetype": "text/x-python",
   "codemirror_mode": {
    "name": "ipython",
    "version": 3
   },
   "pygments_lexer": "ipython3",
   "nbconvert_exporter": "python",
   "file_extension": ".py"
  },
  "kernelspec": {
   "name": "python3",
   "display_name": "Python 3.8.11 64-bit ('doutorado_ppgee': conda)"
  },
  "interpreter": {
   "hash": "22460d22050eae337a685bb9497253f2f1a23e7ef62aa4271433ffc98c0893c7"
  }
 },
 "nbformat": 4,
 "nbformat_minor": 2
}