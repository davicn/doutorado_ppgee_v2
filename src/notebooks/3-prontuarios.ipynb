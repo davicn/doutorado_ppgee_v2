{
 "cells": [
  {
   "cell_type": "markdown",
   "metadata": {},
   "source": [
    "# Captura de informações de porntuários de pacientes"
   ]
  },
  {
   "cell_type": "code",
   "execution_count": 64,
   "metadata": {},
   "outputs": [],
   "source": [
    "import pandas as pd\n",
    "import os\n",
    "\n",
    "PATH = \"/media/davi/2526467b-9f07-4ce5-9425-6d2b458567b7/home/davi/www.isip.piconepress.com/projects/tuh_eeg/downloads/tuh_eeg_seizure/v1.5.2/edf/train/\"\n",
    "CURRENT_PATH = os.getcwd()"
   ]
  },
  {
   "cell_type": "code",
   "execution_count": 65,
   "metadata": {},
   "outputs": [],
   "source": [
    "# Paths de arquivos de descrições de pacientes\n",
    "!find {PATH}/*/*/*/*/*.txt > ../../data/files_infos_patients.txt"
   ]
  },
  {
   "cell_type": "code",
   "execution_count": 66,
   "metadata": {},
   "outputs": [],
   "source": [
    "files = pd.read_csv('../../data/files_infos_patients.txt',header=None)[0].to_list()"
   ]
  },
  {
   "cell_type": "code",
   "execution_count": 67,
   "metadata": {},
   "outputs": [],
   "source": [
    "from joblib import Parallel, delayed\n",
    "\n",
    "def file_to_str(file):\n",
    "    with open(file, 'rb') as file:\n",
    "        data = file.read()\n",
    "    return data\n",
    "\n",
    "contents = Parallel(n_jobs=-1)(delayed(file_to_str)(file) for file in files)\n"
   ]
  },
  {
   "cell_type": "code",
   "execution_count": 68,
   "metadata": {},
   "outputs": [],
   "source": [
    "results = [{\"path\":file, \"file\": file.split(\"/\")[-1], \"content\":content} for file, content in zip(files,contents)]"
   ]
  },
  {
   "cell_type": "code",
   "execution_count": 69,
   "metadata": {},
   "outputs": [],
   "source": [
    "pd.DataFrame(results).to_csv('../../data/infos_patients.csv',index=False)"
   ]
  }
 ],
 "metadata": {
  "interpreter": {
   "hash": "0e03adb9c4bbc7c636a7cb490e01abc5328f7132a16cbef2ed244d180aaa11cf"
  },
  "kernelspec": {
   "display_name": "Python 3.9.5 64-bit ('base': conda)",
   "name": "python3"
  },
  "language_info": {
   "codemirror_mode": {
    "name": "ipython",
    "version": 3
   },
   "file_extension": ".py",
   "mimetype": "text/x-python",
   "name": "python",
   "nbconvert_exporter": "python",
   "pygments_lexer": "ipython3",
   "version": "3.9.5"
  },
  "orig_nbformat": 4
 },
 "nbformat": 4,
 "nbformat_minor": 2
}
