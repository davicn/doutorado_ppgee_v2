{
 "cells": [
  {
   "cell_type": "code",
   "execution_count": 3,
   "source": [
    "import pandas as pd\n",
    "import os\n",
    "\n",
    "PATH = os.path.abspath('../../')"
   ],
   "outputs": [],
   "metadata": {}
  },
  {
   "cell_type": "code",
   "execution_count": 5,
   "source": [
    "df = pd.read_csv(\n",
    "    filepath_or_buffer = PATH + '/docs/ref_train.txt',\n",
    "    names = ['file','start','end','type','count'])\n",
    "\n",
    "df"
   ],
   "outputs": [
    {
     "data": {
      "text/plain": "                                                   file  start  end  type  \\\n0       001402_s003_t001.t 0.0000 1264.0000 bckg 1.0000    NaN  NaN   NaN   \n1        001479_s001_t001.t 0.0000 950.0040 bckg 1.0000    NaN  NaN   NaN   \n2     001479_s001_t001.t 950.0040 1047.0178 seiz 1.0000    NaN  NaN   NaN   \n3     001479_s001_t001.t 1047.0178 1199.0000 bckg 1....    NaN  NaN   NaN   \n4        001413_s001_t000.t 0.0000 315.3400 bckg 1.0000    NaN  NaN   NaN   \n...                                                 ...    ...  ...   ...   \n9348  00002380_s005_t004 315.5241 1061.0000 bckg 1.0000    NaN  NaN   NaN   \n9349      00002380_s002_t005 0.0000 70.0000 bckg 1.0000    NaN  NaN   NaN   \n9350     00002380_s002_t003 0.0000 121.0000 bckg 1.0000    NaN  NaN   NaN   \n9351     00002380_s002_t001 0.0000 260.0000 bckg 1.0000    NaN  NaN   NaN   \n9352      00002380_s002_t006 0.0000 54.0000 bckg 1.0000    NaN  NaN   NaN   \n\n      count  \n0       NaN  \n1       NaN  \n2       NaN  \n3       NaN  \n4       NaN  \n...     ...  \n9348    NaN  \n9349    NaN  \n9350    NaN  \n9351    NaN  \n9352    NaN  \n\n[9353 rows x 5 columns]",
      "text/html": "<div>\n<style scoped>\n    .dataframe tbody tr th:only-of-type {\n        vertical-align: middle;\n    }\n\n    .dataframe tbody tr th {\n        vertical-align: top;\n    }\n\n    .dataframe thead th {\n        text-align: right;\n    }\n</style>\n<table border=\"1\" class=\"dataframe\">\n  <thead>\n    <tr style=\"text-align: right;\">\n      <th></th>\n      <th>file</th>\n      <th>start</th>\n      <th>end</th>\n      <th>type</th>\n      <th>count</th>\n    </tr>\n  </thead>\n  <tbody>\n    <tr>\n      <th>0</th>\n      <td>001402_s003_t001.t 0.0000 1264.0000 bckg 1.0000</td>\n      <td>NaN</td>\n      <td>NaN</td>\n      <td>NaN</td>\n      <td>NaN</td>\n    </tr>\n    <tr>\n      <th>1</th>\n      <td>001479_s001_t001.t 0.0000 950.0040 bckg 1.0000</td>\n      <td>NaN</td>\n      <td>NaN</td>\n      <td>NaN</td>\n      <td>NaN</td>\n    </tr>\n    <tr>\n      <th>2</th>\n      <td>001479_s001_t001.t 950.0040 1047.0178 seiz 1.0000</td>\n      <td>NaN</td>\n      <td>NaN</td>\n      <td>NaN</td>\n      <td>NaN</td>\n    </tr>\n    <tr>\n      <th>3</th>\n      <td>001479_s001_t001.t 1047.0178 1199.0000 bckg 1....</td>\n      <td>NaN</td>\n      <td>NaN</td>\n      <td>NaN</td>\n      <td>NaN</td>\n    </tr>\n    <tr>\n      <th>4</th>\n      <td>001413_s001_t000.t 0.0000 315.3400 bckg 1.0000</td>\n      <td>NaN</td>\n      <td>NaN</td>\n      <td>NaN</td>\n      <td>NaN</td>\n    </tr>\n    <tr>\n      <th>...</th>\n      <td>...</td>\n      <td>...</td>\n      <td>...</td>\n      <td>...</td>\n      <td>...</td>\n    </tr>\n    <tr>\n      <th>9348</th>\n      <td>00002380_s005_t004 315.5241 1061.0000 bckg 1.0000</td>\n      <td>NaN</td>\n      <td>NaN</td>\n      <td>NaN</td>\n      <td>NaN</td>\n    </tr>\n    <tr>\n      <th>9349</th>\n      <td>00002380_s002_t005 0.0000 70.0000 bckg 1.0000</td>\n      <td>NaN</td>\n      <td>NaN</td>\n      <td>NaN</td>\n      <td>NaN</td>\n    </tr>\n    <tr>\n      <th>9350</th>\n      <td>00002380_s002_t003 0.0000 121.0000 bckg 1.0000</td>\n      <td>NaN</td>\n      <td>NaN</td>\n      <td>NaN</td>\n      <td>NaN</td>\n    </tr>\n    <tr>\n      <th>9351</th>\n      <td>00002380_s002_t001 0.0000 260.0000 bckg 1.0000</td>\n      <td>NaN</td>\n      <td>NaN</td>\n      <td>NaN</td>\n      <td>NaN</td>\n    </tr>\n    <tr>\n      <th>9352</th>\n      <td>00002380_s002_t006 0.0000 54.0000 bckg 1.0000</td>\n      <td>NaN</td>\n      <td>NaN</td>\n      <td>NaN</td>\n      <td>NaN</td>\n    </tr>\n  </tbody>\n</table>\n<p>9353 rows × 5 columns</p>\n</div>"
     },
     "execution_count": 5,
     "metadata": {},
     "output_type": "execute_result"
    }
   ],
   "metadata": {}
  },
  {
   "cell_type": "code",
   "execution_count": 39,
   "source": [
    "\n",
    "dfs = []\n",
    "for i in df['file'].unique():\n",
    "    file = i\n",
    "    index = df.index[df['file']==file].to_list()\n",
    "    dict_ = df.iloc[index, 1:].to_dict('records')\n",
    "    dfs.append({\"file\":file,\"data\":dict_})"
   ],
   "outputs": [],
   "metadata": {}
  },
  {
   "cell_type": "code",
   "execution_count": 43,
   "source": [
    "import json\n",
    "\n",
    "with open('file_infos.json','w',encoding='utf-8') as f:\n",
    "    f.write(json.dumps(dfs, ensure_ascii=False))"
   ],
   "outputs": [],
   "metadata": {}
  }
 ],
 "metadata": {
  "orig_nbformat": 4,
  "language_info": {
   "name": "python",
   "version": "3.8.11",
   "mimetype": "text/x-python",
   "codemirror_mode": {
    "name": "ipython",
    "version": 3
   },
   "pygments_lexer": "ipython3",
   "nbconvert_exporter": "python",
   "file_extension": ".py"
  },
  "kernelspec": {
   "name": "python3",
   "display_name": "Python 3.8.11 64-bit ('doutorado_ppgee': conda)"
  },
  "interpreter": {
   "hash": "22460d22050eae337a685bb9497253f2f1a23e7ef62aa4271433ffc98c0893c7"
  }
 },
 "nbformat": 4,
 "nbformat_minor": 2
}