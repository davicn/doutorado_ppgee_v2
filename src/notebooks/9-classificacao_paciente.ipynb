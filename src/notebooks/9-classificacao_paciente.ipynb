{
 "cells": [
  {
   "cell_type": "markdown",
   "metadata": {},
   "source": [
    "# Classificação de um paciente"
   ]
  },
  {
   "cell_type": "markdown",
   "metadata": {},
   "source": [
    "## Donwload e Organização"
   ]
  },
  {
   "cell_type": "code",
   "execution_count": 18,
   "metadata": {},
   "outputs": [],
   "source": [
    "from datetime import datetime\n",
    "import numpy as np\n",
    "\n",
    "path = '/mnt/c/Users/davi.nascimento/Documents/siena-eeg/PN00'\n",
    "\n",
    "f = [i for i in open(f\"{path}/Seizures-list-PN00.txt\", \"r\")]\n",
    "\n",
    "\n",
    "def get_patterns(file):\n",
    "    patterns = [\n",
    "        'File name:', \n",
    "        'Registration start time:',\n",
    "        'Registration end time:',\n",
    "        'Seizure start time:',\n",
    "        'Seizure end time:'\n",
    "    ]\n",
    "\n",
    "    keys = ['name','registration_start','registration_end','seizure_start','seizure_end']\n",
    "    data = []\n",
    "\n",
    "    for line in file:\n",
    "        for idx in range(len(keys)):\n",
    "            if patterns[idx] in line:\n",
    "                d = {}\n",
    "                d[keys[idx]]= line.replace(patterns[idx],'').strip()\n",
    "                data.append(d)\n",
    "\n",
    "    return data\n",
    "\n",
    "\n",
    "def set_intervals(data):\n",
    "    intervals = [cont for cont in range(len(data)) if 'name' in data[cont].keys()]\n",
    "    intervals.append(None)\n",
    "    data_ = []\n",
    "    \n",
    "    for cont in range(len(intervals)-1):\n",
    "        data_.append(data[intervals[cont]:intervals[cont+1]])\n",
    "\n",
    "    return data_\n",
    "\n",
    "\n",
    "def dict_update(data):\n",
    "    d = {}\n",
    "    for i in data:\n",
    "        d.update(i)\n",
    "    return d\n",
    "\n",
    "\n",
    "def pipeline(file):\n",
    "    data = get_patterns(file)\n",
    "    result = set_intervals(data)\n",
    "    return [dict_update(data) for data in result]\n",
    "\n",
    "def split_time(label, data):\n",
    "    return [int(x) for x in data[label].split('.')]\n",
    "\n",
    "def set_hour(label, data):\n",
    "    h, m, s = split_time(label, data)\n",
    "    date = datetime.now()\n",
    "    return date.replace(hour=h,minute=m,second=s,microsecond=0)\n",
    "\n",
    "data = pipeline(f)\n",
    "\n",
    "infos = []\n",
    "\n",
    "for d in data:\n",
    "    registration_start = set_hour('registration_start', d)\n",
    "    registration_end = set_hour('registration_end', d)\n",
    "    seizure_start = set_hour('seizure_start', d)\n",
    "    seizure_end = set_hour('seizure_end', d)\n",
    "\n",
    "    total = registration_end - registration_start\n",
    "    seizure_end_sec = registration_end - seizure_end\n",
    "    seizure_start_sec = registration_end - seizure_start\n",
    "\n",
    "    d['total'] = int(total.total_seconds())\n",
    "    d['seizure_start_sec'] = int(seizure_start_sec.total_seconds())\n",
    "    d['seizure_end_sec'] = int(seizure_end_sec.total_seconds())\n",
    "\n",
    "    infos.append(d)\n"
   ]
  },
  {
   "cell_type": "code",
   "execution_count": 19,
   "metadata": {},
   "outputs": [
    {
     "data": {
      "text/plain": [
       "[{'name': 'PN00-1.edf',\n",
       "  'registration_start': '19.39.33',\n",
       "  'registration_end': '20.22.58',\n",
       "  'seizure_start': '19.58.36',\n",
       "  'seizure_end': '19.59.46',\n",
       "  'total': 2605,\n",
       "  'seizure_start_sec': 1462,\n",
       "  'seizure_end_sec': 1392},\n",
       " {'name': 'PN00-2.edf',\n",
       "  'registration_start': '02.18.17',\n",
       "  'registration_end': '02.56.19',\n",
       "  'seizure_start': '02.38.37',\n",
       "  'seizure_end': '02.39.31',\n",
       "  'total': 2282,\n",
       "  'seizure_start_sec': 1062,\n",
       "  'seizure_end_sec': 1008},\n",
       " {'name': 'PN00-3.edf',\n",
       "  'registration_start': '18.15.44',\n",
       "  'registration_end': '18.57.13',\n",
       "  'seizure_start': '18.28.29',\n",
       "  'seizure_end': '19.29.29',\n",
       "  'total': 2489,\n",
       "  'seizure_start_sec': 1724,\n",
       "  'seizure_end_sec': -1936},\n",
       " {'name': 'PN00-4.edf',\n",
       "  'registration_start': '20.51.43',\n",
       "  'registration_end': '21.26.25',\n",
       "  'seizure_start': '21.08.29',\n",
       "  'seizure_end': '21.09.43',\n",
       "  'total': 2082,\n",
       "  'seizure_start_sec': 1076,\n",
       "  'seizure_end_sec': 1002},\n",
       " {'name': 'PN00-5.edf',\n",
       "  'registration_start': '22.22.04',\n",
       "  'registration_end': '22.57.27',\n",
       "  'seizure_start': '22.37.08',\n",
       "  'seizure_end': '22.38.15',\n",
       "  'total': 2123,\n",
       "  'seizure_start_sec': 1219,\n",
       "  'seizure_end_sec': 1152}]"
      ]
     },
     "execution_count": 19,
     "metadata": {},
     "output_type": "execute_result"
    }
   ],
   "source": [
    "infos"
   ]
  },
  {
   "cell_type": "code",
   "execution_count": null,
   "metadata": {},
   "outputs": [],
   "source": []
  },
  {
   "cell_type": "markdown",
   "metadata": {},
   "source": []
  },
  {
   "cell_type": "markdown",
   "metadata": {},
   "source": []
  }
 ],
 "metadata": {
  "interpreter": {
   "hash": "744bae1ef8ed56e659058dcc1c94db4b39efdf7d0d6e0baf9338b85eac62eb10"
  },
  "kernelspec": {
   "display_name": "Python 3.8.12 64-bit ('doutorado': conda)",
   "language": "python",
   "name": "python3"
  },
  "language_info": {
   "codemirror_mode": {
    "name": "ipython",
    "version": 3
   },
   "file_extension": ".py",
   "mimetype": "text/x-python",
   "name": "python",
   "nbconvert_exporter": "python",
   "pygments_lexer": "ipython3",
   "version": "3.8.12"
  },
  "orig_nbformat": 4
 },
 "nbformat": 4,
 "nbformat_minor": 2
}
