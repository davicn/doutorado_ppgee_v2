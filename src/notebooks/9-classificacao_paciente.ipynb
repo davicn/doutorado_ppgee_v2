{
 "cells": [
  {
   "cell_type": "markdown",
   "metadata": {},
   "source": [
    "# Classificação de um paciente"
   ]
  },
  {
   "cell_type": "markdown",
   "metadata": {},
   "source": [
    "## Donwload e Organização"
   ]
  },
  {
   "cell_type": "code",
   "execution_count": 4,
   "metadata": {},
   "outputs": [],
   "source": [
    "from datetime import datetime\n",
    "import numpy as np\n",
    "\n",
    "path = '/mnt/c/Users/davi.nascimento/Documents/siena-eeg/PN00'\n",
    "\n",
    "f = [i for i in open(f\"{path}/Seizures-list-PN00.txt\", \"r\")]\n",
    "\n",
    "\n",
    "def get_patterns(file):\n",
    "    patterns = [\n",
    "        'File name:', \n",
    "        'Registration start time:',\n",
    "        'Registration end time:',\n",
    "        'Seizure start time:',\n",
    "        'Seizure end time:'\n",
    "    ]\n",
    "\n",
    "    keys = ['name','registration_start','registration_end','seizure_start','seizure_end']\n",
    "    data = []\n",
    "\n",
    "    for line in file:\n",
    "        for idx in range(len(keys)):\n",
    "            if patterns[idx] in line:\n",
    "                d = {}\n",
    "                d[keys[idx]]= line.replace(patterns[idx],'').strip()\n",
    "                data.append(d)\n",
    "\n",
    "    return data\n",
    "\n",
    "\n",
    "def set_intervals(data):\n",
    "    intervals = [cont for cont in range(len(data)) if 'name' in data[cont].keys()]\n",
    "    intervals.append(None)\n",
    "    data_ = []\n",
    "    \n",
    "    for cont in range(len(intervals)-1):\n",
    "        data_.append(data[intervals[cont]:intervals[cont+1]])\n",
    "\n",
    "    return data_\n",
    "\n",
    "\n",
    "def dict_update(data):\n",
    "    d = {}\n",
    "    for i in data:\n",
    "        d.update(i)\n",
    "    return d\n",
    "\n",
    "\n",
    "def pipeline(file):\n",
    "    data = get_patterns(file)\n",
    "    result = set_intervals(data)\n",
    "    return [dict_update(data) for data in result]\n",
    "\n",
    "def split_time(label, data):\n",
    "    return [int(x) for x in data[label].split('.')]\n",
    "\n",
    "def set_hour(label, data):\n",
    "    h, m, s = split_time(label, data)\n",
    "    date = datetime.now()\n",
    "    return date.replace(hour=h,minute=m,second=s,microsecond=0)\n",
    "\n",
    "data = pipeline(f)\n",
    "\n",
    "infos = []\n",
    "\n",
    "for d in data:\n",
    "    registration_start = set_hour('registration_start', d)\n",
    "    registration_end = set_hour('registration_end', d)\n",
    "    seizure_start = set_hour('seizure_start', d)\n",
    "    seizure_end = set_hour('seizure_end', d)\n",
    "\n",
    "    total = registration_end - registration_start\n",
    "    seizure_end_sec =  registration_end - seizure_start \n",
    "    seizure_start_sec = registration_end - seizure_end\n",
    "\n",
    "    d['total'] = int(total.total_seconds())\n",
    "    d['seizure_start_sec'] = int(seizure_start_sec.total_seconds())\n",
    "    d['seizure_end_sec'] = int(seizure_end_sec.total_seconds())\n",
    "    d['total_seizure'] = d['seizure_end_sec'] - d['seizure_start_sec'] \n",
    "\n",
    "    infos.append(d)\n"
   ]
  },
  {
   "cell_type": "markdown",
   "metadata": {},
   "source": [
    "## Infos de Sinais"
   ]
  },
  {
   "cell_type": "code",
   "execution_count": 75,
   "metadata": {},
   "outputs": [],
   "source": [
    "from mne.io import read_raw_edf\n",
    "\n",
    "def get_infos_edf(path:str, file:dict) -> dict:\n",
    "    use_keys = ['meas_date','highpass','lowpass','sfreq','ch_names','nchan']\n",
    "    sg = dict(read_raw_edf(f\"{path}{file['name']}\").info, verbose=False)\n",
    "    result = {key:sg[key] for key in sg.keys() if key in use_keys}\n",
    "    result['meas_date'] = result['meas_date'].strftime(\"%Y-%m-%d\")\n",
    "    return {**file,**result} \n"
   ]
  },
  {
   "cell_type": "code",
   "execution_count": 76,
   "metadata": {},
   "outputs": [
    {
     "name": "stdout",
     "output_type": "stream",
     "text": [
      "Extracting EDF parameters from /mnt/c/Users/davi.nascimento/Documents/siena-eeg/PN00/PN00-1.edf...\n",
      "EDF file detected\n",
      "Setting channel info structure...\n",
      "Creating raw.info structure...\n",
      "Extracting EDF parameters from /mnt/c/Users/davi.nascimento/Documents/siena-eeg/PN00/PN00-2.edf...\n",
      "EDF file detected\n",
      "Setting channel info structure...\n",
      "Creating raw.info structure...\n",
      "Extracting EDF parameters from /mnt/c/Users/davi.nascimento/Documents/siena-eeg/PN00/PN00-3.edf...\n",
      "EDF file detected\n",
      "Setting channel info structure...\n",
      "Creating raw.info structure...\n",
      "Extracting EDF parameters from /mnt/c/Users/davi.nascimento/Documents/siena-eeg/PN00/PN00-4.edf...\n",
      "EDF file detected\n",
      "Setting channel info structure...\n",
      "Creating raw.info structure...\n",
      "Extracting EDF parameters from /mnt/c/Users/davi.nascimento/Documents/siena-eeg/PN00/PN00-5.edf...\n",
      "EDF file detected\n",
      "Setting channel info structure...\n",
      "Creating raw.info structure...\n"
     ]
    }
   ],
   "source": [
    "\n",
    "path_data = '/mnt/c/Users/davi.nascimento/Documents/siena-eeg/PN00/'\n",
    "\n",
    "result = [get_infos_edf(path_data,info) for info in infos]"
   ]
  },
  {
   "cell_type": "code",
   "execution_count": 77,
   "metadata": {},
   "outputs": [],
   "source": [
    "import json\n",
    "\n",
    "file = '/mnt/c/Users/davi.nascimento/Documents/github/doutorado_ppgee_v2/data/siena_infos.json'\n",
    "\n",
    "with open(file, 'w', encoding='utf-8') as fl:\n",
    "    json.dump(result, fl, ensure_ascii=False, indent=4)"
   ]
  }
 ],
 "metadata": {
  "interpreter": {
   "hash": "744bae1ef8ed56e659058dcc1c94db4b39efdf7d0d6e0baf9338b85eac62eb10"
  },
  "kernelspec": {
   "display_name": "Python 3.8.12 64-bit ('doutorado': conda)",
   "language": "python",
   "name": "python3"
  },
  "language_info": {
   "codemirror_mode": {
    "name": "ipython",
    "version": 3
   },
   "file_extension": ".py",
   "mimetype": "text/x-python",
   "name": "python",
   "nbconvert_exporter": "python",
   "pygments_lexer": "ipython3",
   "version": "3.8.12"
  },
  "orig_nbformat": 4
 },
 "nbformat": 4,
 "nbformat_minor": 2
}
