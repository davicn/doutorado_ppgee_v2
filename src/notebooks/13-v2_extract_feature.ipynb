{
 "cells": [
  {
   "cell_type": "markdown",
   "metadata": {},
   "source": [
    "# Extração de Caracteríticas\n",
    "\n",
    "Features:\n",
    "- Variance\n",
    "- Skewness\n",
    "- Kurtosis\n",
    "- Shannon-Entropy"
   ]
  },
  {
   "cell_type": "code",
   "execution_count": 1,
   "metadata": {},
   "outputs": [],
   "source": [
    "from os import walk, environ\n",
    "import pandas as pd\n",
    "from pyspark.rdd import RDD\n",
    "from pyspark.sql import SparkSession, DataFrame\n",
    "from pyspark.sql.functions import (col, variance, skewness, kurtosis, desc)\n",
    "from pyspark.sql.types import (StructType, StructField, StringType, FloatType)\n",
    "from functools import reduce\n",
    "from typing import List\n",
    "from joblib import Parallel, delayed\n"
   ]
  },
  {
   "cell_type": "code",
   "execution_count": 2,
   "metadata": {},
   "outputs": [],
   "source": [
    "import logging\n",
    "\n",
    "logging.basicConfig()\n",
    "logger = logging.getLogger(__name__)\n",
    "logger.setLevel(environ.get(\"LOGGER_LEVEL\", \"INFO\"))\n"
   ]
  },
  {
   "cell_type": "code",
   "execution_count": 4,
   "metadata": {},
   "outputs": [],
   "source": [
    "spark = (SparkSession.builder\n",
    "         .master('local')\n",
    "         .appName('Doutorado')\n",
    "         .getOrCreate())\n",
    "\n",
    "\n",
    "path_data = '/media/davi/6A81-05CF/physionet.org/files/siena-scalp-eeg/1.0.0/PN00/'\n",
    "infos_path = '/home/davi/Documentos/doutorado_ppgee_v2/data/siena_infos.json'\n",
    "\n",
    "infos = pd.read_json(infos_path)\n",
    "\n",
    "files = [dir_[0] for dir_ in walk(path_data)][1:]\n"
   ]
  },
  {
   "cell_type": "markdown",
   "metadata": {},
   "source": [
    "## Extraindo de EKG"
   ]
  },
  {
   "cell_type": "code",
   "execution_count": 5,
   "metadata": {},
   "outputs": [],
   "source": [
    "def get_intervals(df: DataFrame, freq: int, type_seizure: str) -> list:\n",
    "\n",
    "    if type_seizure == 'ICTAL':\n",
    "        first_id = (df.select('__index_level_0__')\n",
    "                    .limit(1)\n",
    "                    .collect())[0][0]\n",
    "\n",
    "        last_id = (df.orderBy(desc('__index_level_0__'))\n",
    "                   .select('__index_level_0__')\n",
    "                   .limit(1)\n",
    "                   .collect())[0][0]\n",
    "    else:\n",
    "        idx = df.select('__index_level_0__').collect()\n",
    "        idx = [item['__index_level_0__'] for item in idx]\n",
    "\n",
    "        first_id, last_id = idx[0], idx[-1]\n",
    "\n",
    "    logger.info(f'Range ids: {first_id}:{last_id}')\n",
    "    logger.info(f'Seconds of intervals: {first_id//freq}:{last_id//freq}')\n",
    "\n",
    "    ids, cont = [], 0\n",
    "\n",
    "    while True:\n",
    "        value = first_id + (cont * freq)\n",
    "        ids.append(value)\n",
    "        cont += 1\n",
    "        if value >= last_id:\n",
    "            break\n",
    "\n",
    "    return ids\n",
    "\n",
    "\n",
    "def get_features_ekg(df: DataFrame, start: int, end: int) -> DataFrame:\n",
    "    return (df.filter(col('__index_level_0__')\n",
    "                      .between(start, end))\n",
    "            .groupBy('label')\n",
    "            .agg(variance('EKG_EKG').alias('var'),\n",
    "                 skewness('EKG_EKG').alias('skew'),\n",
    "                 kurtosis('EKG_EKG').alias('kur')))\n"
   ]
  },
  {
   "cell_type": "code",
   "execution_count": 6,
   "metadata": {},
   "outputs": [],
   "source": [
    "def pipeline_ekg(info: dict, seizure: str) -> None:\n",
    "\n",
    "    name = info['name'].replace('.edf', '')\n",
    "    freq = int(info['sfreq'])\n",
    "    type_signal = 'EKG'\n",
    "    path_file = f\"{path_data}{name}/{seizure}/{type_signal}\"\n",
    "\n",
    "    logger.info(f\"Path file: {path_file}\")\n",
    "\n",
    "    ekg = spark.read.parquet(path_file)\n",
    "    ids = get_intervals(df=ekg, freq=freq, type_seizure=seizure)\n",
    "\n",
    "    logger.info('Starting writing')\n",
    "\n",
    "    for i in range(len(ids)-1):\n",
    "        start = ids[i]\n",
    "        end = ids[i+1]\n",
    "        df = get_features_ekg(df=ekg, start=start, end=end)\n",
    "        (df.write\n",
    "           .mode(\"append\")\n",
    "           .parquet(f\"{path_file}/features\"))\n",
    "\n",
    "    logger.info('Starting complete')\n"
   ]
  },
  {
   "cell_type": "code",
   "execution_count": null,
   "metadata": {},
   "outputs": [],
   "source": [
    "\n",
    "for index, row in infos.iterrows():\n",
    "    info = dict(row)\n",
    "    seizure = 'ICTAL'\n",
    "    pipeline_ekg(info=info, seizure=seizure, empty=empty, schema=schema)\n"
   ]
  },
  {
   "cell_type": "code",
   "execution_count": 7,
   "metadata": {},
   "outputs": [
    {
     "name": "stderr",
     "output_type": "stream",
     "text": [
      "INFO:__main__:Path file: /media/davi/6A81-05CF/physionet.org/files/siena-scalp-eeg/1.0.0/PN00/PN00-1/N_ICTAL/EKG\n",
      "INFO:__main__:Range ids: 666624:702464\n",
      "INFO:__main__:Seconds of intervals: 1302:1372\n",
      "INFO:__main__:Starting writing\n",
      "INFO:__main__:Starting complete\n",
      "INFO:__main__:Path file: /media/davi/6A81-05CF/physionet.org/files/siena-scalp-eeg/1.0.0/PN00/PN00-2/N_ICTAL/EKG\n",
      "INFO:__main__:Range ids: 478208:505856\n",
      "INFO:__main__:Seconds of intervals: 934:988\n",
      "INFO:__main__:Starting writing\n",
      "INFO:__main__:Starting complete\n",
      "INFO:__main__:Path file: /media/davi/6A81-05CF/physionet.org/files/siena-scalp-eeg/1.0.0/PN00/PN00-3/N_ICTAL/EKG\n",
      "INFO:__main__:Range ids: 811008:841728\n",
      "INFO:__main__:Seconds of intervals: 1584:1644\n",
      "INFO:__main__:Starting writing\n",
      "INFO:__main__:Starting complete\n",
      "INFO:__main__:Path file: /media/davi/6A81-05CF/physionet.org/files/siena-scalp-eeg/1.0.0/PN00/PN00-4/N_ICTAL/EKG\n",
      "INFO:__main__:Range ids: 464896:502784\n",
      "INFO:__main__:Seconds of intervals: 908:982\n",
      "INFO:__main__:Starting writing\n",
      "INFO:__main__:Starting complete\n",
      "INFO:__main__:Path file: /media/davi/6A81-05CF/physionet.org/files/siena-scalp-eeg/1.0.0/PN00/PN00-5/N_ICTAL/EKG\n",
      "INFO:__main__:Range ids: 545280:579584\n",
      "INFO:__main__:Seconds of intervals: 1065:1132\n",
      "INFO:__main__:Starting writing\n",
      "INFO:__main__:Starting complete\n"
     ]
    }
   ],
   "source": [
    "for index, row in infos.iterrows():\n",
    "    info = dict(row)\n",
    "    seizure = 'N_ICTAL'\n",
    "    pipeline_ekg(info=info, seizure=seizure)\n"
   ]
  },
  {
   "cell_type": "markdown",
   "metadata": {},
   "source": [
    "f\""
   ]
  }
 ],
 "metadata": {
  "interpreter": {
   "hash": "0e03adb9c4bbc7c636a7cb490e01abc5328f7132a16cbef2ed244d180aaa11cf"
  },
  "kernelspec": {
   "display_name": "Python 3.9.5 ('base')",
   "language": "python",
   "name": "python3"
  },
  "language_info": {
   "codemirror_mode": {
    "name": "ipython",
    "version": 3
   },
   "file_extension": ".py",
   "mimetype": "text/x-python",
   "name": "python",
   "nbconvert_exporter": "python",
   "pygments_lexer": "ipython3",
   "version": "3.9.5"
  },
  "orig_nbformat": 4
 },
 "nbformat": 4,
 "nbformat_minor": 2
}
