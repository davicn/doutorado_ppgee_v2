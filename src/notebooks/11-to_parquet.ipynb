{
 "cells": [
  {
   "cell_type": "markdown",
   "metadata": {},
   "source": [
    "# Convertendo EDF -> Parquet"
   ]
  },
  {
   "cell_type": "code",
   "execution_count": 3,
   "metadata": {},
   "outputs": [],
   "source": [
    "from mne.io import read_raw_edf\n",
    "import pandas as pd \n",
    "\n",
    "path_data = '/mnt/c/Users/davi.nascimento/Documents/siena-eeg/PN00/'\n",
    "path_info = '/mnt/c/Users/davi.nascimento/Documents/github/doutorado_ppgee_v2/data/siena_infos.json'\n",
    "\n",
    "infos = pd.read_json(path_info)\n",
    "\n"
   ]
  },
  {
   "cell_type": "code",
   "execution_count": 11,
   "metadata": {},
   "outputs": [
    {
     "name": "stdout",
     "output_type": "stream",
     "text": [
      "Extracting EDF parameters from /mnt/c/Users/davi.nascimento/Documents/siena-eeg/PN00/PN00-1.edf...\n",
      "EDF file detected\n",
      "Setting channel info structure...\n",
      "Creating raw.info structure...\n",
      "Extracting EDF parameters from /mnt/c/Users/davi.nascimento/Documents/siena-eeg/PN00/PN00-2.edf...\n",
      "EDF file detected\n",
      "Setting channel info structure...\n",
      "Creating raw.info structure...\n",
      "Extracting EDF parameters from /mnt/c/Users/davi.nascimento/Documents/siena-eeg/PN00/PN00-3.edf...\n",
      "EDF file detected\n",
      "Setting channel info structure...\n",
      "Creating raw.info structure...\n",
      "Extracting EDF parameters from /mnt/c/Users/davi.nascimento/Documents/siena-eeg/PN00/PN00-4.edf...\n",
      "EDF file detected\n",
      "Setting channel info structure...\n",
      "Creating raw.info structure...\n",
      "Extracting EDF parameters from /mnt/c/Users/davi.nascimento/Documents/siena-eeg/PN00/PN00-5.edf...\n",
      "EDF file detected\n",
      "Setting channel info structure...\n",
      "Creating raw.info structure...\n"
     ]
    }
   ],
   "source": [
    "\n",
    "for index, row in infos.iterrows():\n",
    "    path_ = f\"{path_data}{row['name']}\"\n",
    "    raw = read_raw_edf(path_)\n",
    "    df = raw.to_data_frame()\n",
    "    df.to_parquet(f\"{path_data}{row['name'].replace('edf','parquet')}\")\n",
    "\n"
   ]
  }
 ],
 "metadata": {
  "interpreter": {
   "hash": "916dbcbb3f70747c44a77c7bcd40155683ae19c65e1c03b4aa3499c5328201f1"
  },
  "kernelspec": {
   "display_name": "Python 3.8.10 64-bit",
   "language": "python",
   "name": "python3"
  },
  "language_info": {
   "codemirror_mode": {
    "name": "ipython",
    "version": 3
   },
   "file_extension": ".py",
   "mimetype": "text/x-python",
   "name": "python",
   "nbconvert_exporter": "python",
   "pygments_lexer": "ipython3",
   "version": "3.8.10"
  },
  "orig_nbformat": 4
 },
 "nbformat": 4,
 "nbformat_minor": 2
}
