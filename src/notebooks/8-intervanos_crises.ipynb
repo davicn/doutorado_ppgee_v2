{
 "cells": [
  {
   "cell_type": "markdown",
   "metadata": {},
   "source": [
    "## Refatorando intervalso de eventos em Sinais"
   ]
  },
  {
   "cell_type": "code",
   "execution_count": 12,
   "metadata": {},
   "outputs": [],
   "source": [
    "import os \n",
    "\n",
    "PATH = '/media/davi/6A81-05CF/physionet.org/files/siena-scalp-eeg/'\n",
    "\n",
    "FILES = []\n",
    "\n",
    "for root, dirs, files in os.walk(PATH):\n",
    "    for file in files:\n",
    "        if 'Seizures-list' in file:\n",
    "            FILES.append(os.path.join(root,file))"
   ]
  },
  {
   "cell_type": "code",
   "execution_count": 17,
   "metadata": {},
   "outputs": [],
   "source": [
    "f = open(FILES[0], \"r\")\n",
    "fl = [i for i in f]"
   ]
  },
  {
   "cell_type": "code",
   "execution_count": 80,
   "metadata": {},
   "outputs": [],
   "source": [
    "def get_patterns(file):\n",
    "    patterns = [\n",
    "        'File name:', \n",
    "        'Registration start time:',\n",
    "        'Registration end time:',\n",
    "        'Seizure start time:',\n",
    "        'Seizure end time:'\n",
    "    ]\n",
    "\n",
    "    keys = ['name','registration_start','registration_end','seizure_start','seizure_end']\n",
    "\n",
    "    data = []\n",
    "\n",
    "    for line in file:\n",
    "        for idx in range(len(keys)):\n",
    "            if patterns[idx] in line:\n",
    "                d = {}\n",
    "                d[keys[idx]]= line.replace(patterns[idx],'').strip()\n",
    "                data.append(d)\n",
    "\n",
    "    return data\n",
    "\n",
    "\n",
    "def set_intervals(data):\n",
    "    intervals = [cont for cont in range(len(data)) if 'name' in data[cont].keys()]\n",
    "    \n",
    "    intervals.append(None)\n",
    "\n",
    "    data_ = []\n",
    "    \n",
    "    for cont in range(len(intervals)-1):\n",
    "        data_.append(data[intervals[cont]:intervals[cont+1]])\n",
    "\n",
    "    return data_\n",
    "\n",
    "\n",
    "def dict_update(data):\n",
    "    d = {}\n",
    "    for i in data:\n",
    "        d.update(i)\n",
    "    return d\n",
    "\n",
    "\n",
    "def pipeline(file):\n",
    "    data = get_patterns(file)\n",
    "    result = set_intervals(data)\n",
    "    \n",
    "    return [dict_update(data) for data in result]\n",
    "\n"
   ]
  },
  {
   "cell_type": "code",
   "execution_count": 81,
   "metadata": {},
   "outputs": [],
   "source": [
    "data = pipeline(fl)"
   ]
  },
  {
   "cell_type": "code",
   "execution_count": 84,
   "metadata": {},
   "outputs": [
    {
     "data": {
      "text/plain": [
       "{'name': 'PN00-1.edf',\n",
       " 'registration_start': '19.39.33',\n",
       " 'registration_end': '20.22.58',\n",
       " 'seizure_start': '19.58.36',\n",
       " 'seizure_end': '19.59.46'}"
      ]
     },
     "execution_count": 84,
     "metadata": {},
     "output_type": "execute_result"
    }
   ],
   "source": [
    "data[0]"
   ]
  },
  {
   "cell_type": "code",
   "execution_count": 108,
   "metadata": {},
   "outputs": [
    {
     "data": {
      "text/plain": [
       "{'name': 'PN00-1.edf',\n",
       " 'registration_start': '19.39.33',\n",
       " 'registration_end': '20.22.58',\n",
       " 'seizure_start': '19.58.36',\n",
       " 'seizure_end': '19.59.46',\n",
       " 'total': 2605,\n",
       " 'seizure_start_sec': 1462,\n",
       " 'seizure_end_sec': 1392}"
      ]
     },
     "execution_count": 108,
     "metadata": {},
     "output_type": "execute_result"
    }
   ],
   "source": [
    "from datetime import datetime\n",
    "import numpy as np\n",
    "\n",
    "\n",
    "def split_time(label, data):\n",
    "    return [int(x) for x in data[label].split('.')]\n",
    "\n",
    "def set_hour(label, data):\n",
    "    h, m, s = split_time(label, data)\n",
    "    \n",
    "    date = datetime.now()\n",
    "\n",
    "    return date.replace(hour=h,minute=m,second=s,microsecond=0)\n",
    "\n",
    "\n",
    "\n",
    "\n",
    "d = data[0]\n",
    "\n",
    "registration_start = set_hour('registration_start', d)\n",
    "registration_end = set_hour('registration_end', d)\n",
    "seizure_start = set_hour('seizure_start', d)\n",
    "seizure_end = set_hour('seizure_end', d)\n",
    "\n",
    "total = registration_end - registration_start\n",
    "seizure_end_sec = registration_end - seizure_end\n",
    "seizure_start_sec = registration_end - seizure_start\n",
    "\n",
    "d['total'] = int(total.total_seconds())\n",
    "d['seizure_start_sec'] = int(seizure_start_sec.total_seconds())\n",
    "d['seizure_end_sec'] = int(seizure_end_sec.total_seconds())\n",
    "\n",
    "d"
   ]
  }
 ],
 "metadata": {
  "interpreter": {
   "hash": "0e03adb9c4bbc7c636a7cb490e01abc5328f7132a16cbef2ed244d180aaa11cf"
  },
  "kernelspec": {
   "display_name": "Python 3.9.5 64-bit ('base': conda)",
   "language": "python",
   "name": "python3"
  },
  "language_info": {
   "codemirror_mode": {
    "name": "ipython",
    "version": 3
   },
   "file_extension": ".py",
   "mimetype": "text/x-python",
   "name": "python",
   "nbconvert_exporter": "python",
   "pygments_lexer": "ipython3",
   "version": "3.9.5"
  },
  "orig_nbformat": 4
 },
 "nbformat": 4,
 "nbformat_minor": 2
}
