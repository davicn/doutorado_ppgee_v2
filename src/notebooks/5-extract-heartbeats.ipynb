{
 "cells": [
  {
   "cell_type": "markdown",
   "source": [
    "# Extraindo batimentos cardiacos\n",
    "# Normais e com crises"
   ],
   "metadata": {}
  },
  {
   "cell_type": "code",
   "execution_count": 1,
   "source": [
    "import pandas as pd\n",
    "import numpy as np\n",
    "import os\n",
    "from dotenv import load_dotenv\n",
    "import mne\n",
    "import neurokit2 as nk"
   ],
   "outputs": [],
   "metadata": {}
  },
  {
   "cell_type": "code",
   "execution_count": 2,
   "source": [
    "load_dotenv()\n",
    "\n",
    "path_data = os.getenv('PATH_DATASET')\n",
    "\n",
    "PATH = os.path.abspath('../../')"
   ],
   "outputs": [],
   "metadata": {}
  },
  {
   "cell_type": "markdown",
   "source": [
    "## Carregamento de dados"
   ],
   "metadata": {}
  },
  {
   "cell_type": "code",
   "execution_count": 3,
   "source": [
    "df1 = pd.read_csv(PATH+'/data/Generalized_seizures_dataset.csv') # Seizure\n",
    "\n",
    "df2 = pd.read_csv(PATH + '/data/data_train.csv') # Normal"
   ],
   "outputs": [],
   "metadata": {}
  },
  {
   "cell_type": "code",
   "execution_count": 4,
   "source": [
    "fs = 256\n",
    "\n",
    "df1 = df1[df1.freq==fs].loc[:,['path','inicio','fim']].astype({'inicio':int,'fim':int}).reset_index(drop=True)\n",
    "\n",
    "df2 = df2[df2.freq==fs]['path'].iloc[:len(df1)]"
   ],
   "outputs": [],
   "metadata": {}
  },
  {
   "cell_type": "markdown",
   "source": [
    "## Funções de processamento"
   ],
   "metadata": {}
  },
  {
   "cell_type": "code",
   "execution_count": 5,
   "source": [
    "# Carregando .edf\n",
    "\n",
    "def load_edf(file):\n",
    "    file = file.replace('tse', 'edf')\n",
    "    data = mne.io.read_raw_edf(path_data + '/' + file)\n",
    "    info = data.info\n",
    "    return {\"info\":info,\"raw\":data}\n",
    "\n",
    "# Canal de ECG puro \n",
    "def raw_to_dataframe(signal,channels):\n",
    "    df = signal.to_data_frame()\n",
    "    limit_start = fs*10 # limitando 10 segundos iniciais\n",
    "    limit_end = len(df)-(fs*10) # limitando 10 segundos finais\n",
    "    return df[channels].iloc[limit_start:limit_end]*(-1)\n",
    "\n",
    "# Identificar canais de ecg\n",
    "def get_ecg_channels(info):\n",
    "    ch_ecg = [ch for ch in info.ch_names if 'EKG' in ch]\n",
    "    return ch_ecg\n",
    "\n",
    "# Filtrando ECG\n",
    "# Recuperando batimentos cardíacos\n",
    "def ecg_process(signal,fs):\n",
    "    ecg_clean = nk.ecg_clean(signal, sampling_rate=fs, method=\"hamilton2002\")\n",
    "    return nk.ecg_segment(ecg_clean, rpeaks=None, sampling_rate=fs, show=False)"
   ],
   "outputs": [],
   "metadata": {}
  },
  {
   "cell_type": "code",
   "execution_count": 6,
   "source": [
    "def pipeline(path,start,end):\n",
    "    try:\n",
    "        infos = load_edf(path)\n",
    "        ecg_channels = get_ecg_channels(infos['info'])\n",
    "        signal = raw_to_dataframe(infos['raw'],ecg_channels)\n",
    "        signal = signal.reset_index(drop=True).iloc[start*fs:end*fs]\n",
    "        result = ecg_process(signal,fs)\n",
    "        return {'file':path, 'data': result}\n",
    "    except (ValueError, IndexError, ZeroDivisionError) as error:\n",
    "        return [] "
   ],
   "outputs": [],
   "metadata": {}
  },
  {
   "cell_type": "markdown",
   "source": [
    "## Executando pipeline"
   ],
   "metadata": {}
  },
  {
   "cell_type": "code",
   "execution_count": null,
   "source": [
    "# ECG com crises\n",
    "\n",
    "from joblib import Parallel, delayed\n",
    "\n",
    "result1 = Parallel(n_jobs=-1)(delayed(pipeline)(row['path'],row['inicio'],row['fim']) for index,row in df1.iterrows())\n",
    "\n",
    "result1 = [result for result in result1 if len(result)>0]"
   ],
   "outputs": [],
   "metadata": {}
  },
  {
   "cell_type": "code",
   "execution_count": 22,
   "source": [
    "# Agrupando Arquivo e batimentos\n",
    "\n",
    "def grouping_heart_beats(result):\n",
    "    file_path = result['file']\n",
    "    heart_beats = [result['data'][key]['Signal'].to_list() for key in result['data'].keys()]\n",
    "    return {'file': file_path,'heart_beats': heart_beats} \n",
    "\n",
    "all_results1 = [grouping_heart_beats(result) for result in result1]"
   ],
   "outputs": [],
   "metadata": {}
  },
  {
   "cell_type": "code",
   "execution_count": null,
   "source": [
    "result2 = Parallel(n_jobs=-1)(delayed(pipeline)(path,0,10) for path in df2.T.to_list())"
   ],
   "outputs": [],
   "metadata": {}
  },
  {
   "cell_type": "code",
   "execution_count": 35,
   "source": [
    "result2 = [result for result in result2 if len(result)>0]"
   ],
   "outputs": [],
   "metadata": {}
  },
  {
   "cell_type": "code",
   "execution_count": 36,
   "source": [
    "all_results2 = [grouping_heart_beats(result) for result in result2]"
   ],
   "outputs": [],
   "metadata": {}
  },
  {
   "cell_type": "code",
   "execution_count": 39,
   "source": [
    "# Salvando resultados\n",
    "\n",
    "import pickle\n",
    "\n",
    "with open('ecg_generated_seizure.pkl','wb') as handle:\n",
    "    pickle.dump(all_results1, handle, protocol=pickle.HIGHEST_PROTOCOL)\n",
    "\n",
    "with open('ecg_normal.pkl','wb') as handle:\n",
    "    pickle.dump(all_results2, handle, protocol=pickle.HIGHEST_PROTOCOL)\n"
   ],
   "outputs": [],
   "metadata": {}
  }
 ],
 "metadata": {
  "orig_nbformat": 4,
  "language_info": {
   "name": "python",
   "version": "3.8.11",
   "mimetype": "text/x-python",
   "codemirror_mode": {
    "name": "ipython",
    "version": 3
   },
   "pygments_lexer": "ipython3",
   "nbconvert_exporter": "python",
   "file_extension": ".py"
  },
  "kernelspec": {
   "name": "python3",
   "display_name": "Python 3.8.11 64-bit ('doutorado_ppgee': conda)"
  },
  "interpreter": {
   "hash": "22460d22050eae337a685bb9497253f2f1a23e7ef62aa4271433ffc98c0893c7"
  }
 },
 "nbformat": 4,
 "nbformat_minor": 2
}