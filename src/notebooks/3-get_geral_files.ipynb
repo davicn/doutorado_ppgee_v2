{
 "cells": [
  {
   "cell_type": "markdown",
   "source": [
    "# Segregando arquivos com crises generalizadas"
   ],
   "metadata": {}
  },
  {
   "cell_type": "code",
   "execution_count": 1,
   "source": [
    "import pandas as pd\n",
    "import os\n",
    "\n",
    "PATH = os.path.abspath('../../')"
   ],
   "outputs": [],
   "metadata": {}
  },
  {
   "cell_type": "markdown",
   "source": [
    "## Capturando classes com localização generalizada\n"
   ],
   "metadata": {}
  },
  {
   "cell_type": "code",
   "execution_count": 19,
   "source": [
    "df = pd.read_json(PATH+'/data/seizures_types.json')\n",
    "\n",
    "print(df[df['Locality']=='Generalized'].loc[:,['Class Code','Event Name','Description']].to_string())"
   ],
   "outputs": [
    {
     "output_type": "stream",
     "name": "stdout",
     "text": [
      "   Class Code                                    Event Name                                                                                  Description\n",
      "2        GPED  Generalized Periodic Epileptiform Discharges                                                                 Diffused periodic discharges\n",
      "9        GNSZ              Generalized Non-Specific Seizure         Generalized seizures which cannot be further classified into one of the groups below\n",
      "12       ABSZ                               Absence Seizure  Absence Discharges observed on EEG; patient loses consciousness for few seconds (Petit Mal)\n",
      "28       HPHS                     Hypnagogic Hypersynchrony                                                 A brief period of high amplitude slow waves.\n",
      "29       TRIP                                Triphasic Wave             Large, three-phase waves frequently caused by an underlying metabolic condition.\n"
     ]
    }
   ],
   "metadata": {}
  },
  {
   "cell_type": "markdown",
   "source": [
    "| Evento                                            | Descrição                                                                                             |\n",
    "|---------------------------------------------------|-------------------------------------------------------------------------------------------------------|\n",
    "| Descargas Epileptiformes Periódicas Generalizadas | Descargas periódicas difusas                                                                          |\n",
    "| Apreensão generalizada não específica             | Crises generalizadas que não podem ser classificadas em um dos grupos abaixo                          |\n",
    "| Hipersincronia hipnagógica                        | Um breve período de ondas lentas de alta amplitude.                                                   |\n",
    "| Crise de ausência                                 | Descargas de ausência observadas no EEG; paciente perde a consciência por alguns segundos (Petit Mal) |\n",
    "| Onda Trifásica                                    | Ondas grandes e trifásicas frequentemente causadas por uma condição metabólica subjacente.            |"
   ],
   "metadata": {}
  },
  {
   "cell_type": "markdown",
   "source": [
    "## Capturando arquivos com crises generalizadas"
   ],
   "metadata": {}
  },
  {
   "cell_type": "code",
   "execution_count": 22,
   "source": [
    "import json\n",
    "\n",
    "with open(PATH + '/data/file_infos.json','r') as data:\n",
    "    edf = json.load(data)"
   ],
   "outputs": [],
   "metadata": {}
  },
  {
   "cell_type": "code",
   "execution_count": 25,
   "source": [
    "def check_class(edf):\n",
    "    return type(edf)\n",
    "\n",
    "check_edf = list(filter(check_class,edf))"
   ],
   "outputs": [],
   "metadata": {}
  },
  {
   "cell_type": "code",
   "execution_count": 32,
   "source": [
    "edf[15]['data']"
   ],
   "outputs": [
    {
     "output_type": "execute_result",
     "data": {
      "text/plain": [
       "[{'start': 0.0, 'end': 435.0, 'type': 'bckg', 'count': 1.0}]"
      ]
     },
     "metadata": {},
     "execution_count": 32
    }
   ],
   "metadata": {}
  }
 ],
 "metadata": {
  "orig_nbformat": 4,
  "language_info": {
   "name": "python"
  }
 },
 "nbformat": 4,
 "nbformat_minor": 2
}