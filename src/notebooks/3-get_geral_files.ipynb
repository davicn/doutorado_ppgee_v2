{
 "cells": [
  {
   "cell_type": "markdown",
   "source": [
    "# Segregando arquivos com crises generalizadas"
   ],
   "metadata": {}
  },
  {
   "cell_type": "code",
   "execution_count": 1,
   "source": [
    "import pandas as pd\n",
    "import os\n",
    "\n",
    "PATH = os.path.abspath('../../')"
   ],
   "outputs": [],
   "metadata": {}
  },
  {
   "cell_type": "markdown",
   "source": [
    "## Capturando classes com localização generalizada\n"
   ],
   "metadata": {}
  },
  {
   "cell_type": "code",
   "execution_count": 2,
   "source": [
    "df = pd.read_json(PATH+'/data/seizures_types.json')\n",
    "\n",
    "print(df[df['Locality']=='Generalized'].loc[:,['Class Code','Event Name','Description']].to_string())"
   ],
   "outputs": [
    {
     "output_type": "stream",
     "name": "stdout",
     "text": [
      "   Class Code                                    Event Name                                                                                  Description\n",
      "2        GPED  Generalized Periodic Epileptiform Discharges                                                                 Diffused periodic discharges\n",
      "9        GNSZ              Generalized Non-Specific Seizure         Generalized seizures which cannot be further classified into one of the groups below\n",
      "12       ABSZ                               Absence Seizure  Absence Discharges observed on EEG; patient loses consciousness for few seconds (Petit Mal)\n",
      "28       HPHS                     Hypnagogic Hypersynchrony                                                 A brief period of high amplitude slow waves.\n",
      "29       TRIP                                Triphasic Wave             Large, three-phase waves frequently caused by an underlying metabolic condition.\n"
     ]
    }
   ],
   "metadata": {}
  },
  {
   "cell_type": "markdown",
   "source": [
    "| Evento                                            | Descrição                                                                                             |\n",
    "|---------------------------------------------------|-------------------------------------------------------------------------------------------------------|\n",
    "| Descargas Epileptiformes Periódicas Generalizadas | Descargas periódicas difusas                                                                          |\n",
    "| Apreensão generalizada não específica             | Crises generalizadas que não podem ser classificadas em um dos grupos abaixo                          |\n",
    "| Hipersincronia hipnagógica                        | Um breve período de ondas lentas de alta amplitude.                                                   |\n",
    "| Crise de ausência                                 | Descargas de ausência observadas no EEG; paciente perde a consciência por alguns segundos (Petit Mal) |\n",
    "| Onda Trifásica                                    | Ondas grandes e trifásicas frequentemente causadas por uma condição metabólica subjacente.            |"
   ],
   "metadata": {}
  },
  {
   "cell_type": "markdown",
   "source": [
    "## Capturando arquivos com crises generalizadas"
   ],
   "metadata": {}
  },
  {
   "cell_type": "code",
   "execution_count": 3,
   "source": [
    "edf = pd.read_csv(PATH+'/data/data_train_seizures.csv')"
   ],
   "outputs": [],
   "metadata": {}
  },
  {
   "cell_type": "code",
   "execution_count": 4,
   "source": [
    "# Qtd de eventos por tipos\n",
    "\n",
    "codes = df[df['Locality']=='Generalized']['Class Code'].to_list()\n",
    "\n",
    "edf[edf['tipo'].isin(codes)].groupby(by=['tipo']).size()"
   ],
   "outputs": [
    {
     "output_type": "execute_result",
     "data": {
      "text/plain": [
       "tipo\n",
       "ABSZ     50\n",
       "GNSZ    408\n",
       "dtype: int64"
      ]
     },
     "metadata": {},
     "execution_count": 4
    }
   ],
   "metadata": {}
  },
  {
   "cell_type": "code",
   "execution_count": 5,
   "source": [
    "# Qtd de arquivos por tipo\n",
    "\n",
    "names = edf[edf['tipo'].isin(codes)]['path'].unique()\n",
    "len(names)"
   ],
   "outputs": [
    {
     "output_type": "execute_result",
     "data": {
      "text/plain": [
       "200"
      ]
     },
     "metadata": {},
     "execution_count": 5
    }
   ],
   "metadata": {}
  },
  {
   "cell_type": "code",
   "execution_count": 6,
   "source": [
    "# Qtd de pacientes\n",
    "\n",
    "len(pd.Series([name.split('/' )[3] for name in names]).unique())"
   ],
   "outputs": [
    {
     "output_type": "execute_result",
     "data": {
      "text/plain": [
       "75"
      ]
     },
     "metadata": {},
     "execution_count": 6
    }
   ],
   "metadata": {}
  },
  {
   "cell_type": "markdown",
   "source": [
    "## Verificando quais sinais podem ser trabalhados"
   ],
   "metadata": {}
  },
  {
   "cell_type": "code",
   "execution_count": 71,
   "source": [
    "import numpy as np\n",
    "\n",
    "mounts = []\n",
    "\n",
    "splits = [ mont.split(\", \") for mont in edf[edf['tipo'].isin(codes)]['montage'].unique()]\n",
    "\n",
    "for i in range(len(splits)):\n",
    "    mounts.append([ch.replace('[','').replace(']','').replace(\"'\",\"\") for ch in splits[i]])\n",
    "\n"
   ],
   "outputs": [],
   "metadata": {}
  },
  {
   "cell_type": "markdown",
   "source": [
    "## Listando dados a serem trabalhados"
   ],
   "metadata": {}
  },
  {
   "cell_type": "code",
   "execution_count": 10,
   "source": [
    "edf[edf['tipo'].isin(codes)].to_csv(\"Generalized_seizures_dataset.csv\",index=False)"
   ],
   "outputs": [],
   "metadata": {}
  }
 ],
 "metadata": {
  "orig_nbformat": 4,
  "language_info": {
   "name": "python",
   "version": "3.8.11",
   "mimetype": "text/x-python",
   "codemirror_mode": {
    "name": "ipython",
    "version": 3
   },
   "pygments_lexer": "ipython3",
   "nbconvert_exporter": "python",
   "file_extension": ".py"
  },
  "kernelspec": {
   "name": "python3",
   "display_name": "Python 3.8.11 64-bit ('doutorado_ppgee': conda)"
  },
  "interpreter": {
   "hash": "22460d22050eae337a685bb9497253f2f1a23e7ef62aa4271433ffc98c0893c7"
  }
 },
 "nbformat": 4,
 "nbformat_minor": 2
}